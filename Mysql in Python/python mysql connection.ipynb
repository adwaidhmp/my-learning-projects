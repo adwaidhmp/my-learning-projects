{
 "cells": [
  {
   "cell_type": "markdown",
   "id": "9a363578",
   "metadata": {},
   "source": [
    "# python interface mysl"
   ]
  },
  {
   "cell_type": "code",
   "execution_count": 1,
   "id": "4cb8ef4e",
   "metadata": {},
   "outputs": [],
   "source": [
    "import mysql.connector"
   ]
  },
  {
   "cell_type": "markdown",
   "id": "bf34e9de",
   "metadata": {},
   "source": [
    "Establish the connection to the database\n",
    "We can connect to the MySQL server using the connect () method."
   ]
  },
  {
   "cell_type": "code",
   "execution_count": 2,
   "id": "5e7fff20",
   "metadata": {},
   "outputs": [
    {
     "name": "stdout",
     "output_type": "stream",
     "text": [
      "Collecting mysql-connector-pythonNote: you may need to restart the kernel to use updated packages.\n",
      "\n",
      "  Using cached mysql_connector_python-9.0.0-cp39-cp39-win_amd64.whl (14.3 MB)\n",
      "Installing collected packages: mysql-connector-python\n",
      "Successfully installed mysql-connector-python-9.0.0\n"
     ]
    }
   ],
   "source": [
    "pip install --upgrade mysql-connector-python"
   ]
  },
  {
   "cell_type": "code",
   "execution_count": null,
   "id": "680ea92a",
   "metadata": {},
   "outputs": [],
   "source": []
  },
  {
   "cell_type": "code",
   "execution_count": 2,
   "id": "f5b64e2e",
   "metadata": {
    "scrolled": true
   },
   "outputs": [
    {
     "name": "stdout",
     "output_type": "stream",
     "text": [
      "<mysql.connector.connection_cext.CMySQLConnection object at 0x0000019F11AD4A00>\n"
     ]
    }
   ],
   "source": [
    "mydb = mysql.connector.connect(host = \"localhost\",user = \"root\",password = \"adwaithmp\")\n",
    "print(mydb)"
   ]
  },
  {
   "cell_type": "code",
   "execution_count": 3,
   "id": "b031ea94",
   "metadata": {},
   "outputs": [
    {
     "name": "stdout",
     "output_type": "stream",
     "text": [
      "connected\n"
     ]
    }
   ],
   "source": [
    "if mydb.is_connected():\n",
    "    print(\"connected\")"
   ]
  },
  {
   "cell_type": "code",
   "execution_count": 4,
   "id": "39d8ad89",
   "metadata": {},
   "outputs": [],
   "source": [
    "cur=mydb.cursor()"
   ]
  },
  {
   "cell_type": "code",
   "execution_count": 5,
   "id": "d908a9f8",
   "metadata": {},
   "outputs": [],
   "source": [
    "mydb.database = \"book\""
   ]
  },
  {
   "cell_type": "code",
   "execution_count": 11,
   "id": "1bded81f",
   "metadata": {},
   "outputs": [],
   "source": [
    "cur.execute(\"select * from department\")  "
   ]
  },
  {
   "cell_type": "code",
   "execution_count": 8,
   "id": "a82f9998",
   "metadata": {},
   "outputs": [
    {
     "data": {
      "text/plain": [
       "[(1, 'human resourse'),\n",
       " (2, 'IT'),\n",
       " (3, 'sales'),\n",
       " (4, 'marketing'),\n",
       " (1, 'human resourse'),\n",
       " (2, 'IT'),\n",
       " (3, 'sales'),\n",
       " (4, 'marketing'),\n",
       " (1, 'human resourse'),\n",
       " (2, 'IT'),\n",
       " (3, 'sales'),\n",
       " (4, 'marketing')]"
      ]
     },
     "execution_count": 8,
     "metadata": {},
     "output_type": "execute_result"
    }
   ],
   "source": [
    "cur.fetchall()"
   ]
  },
  {
   "cell_type": "code",
   "execution_count": 12,
   "id": "32ecdf66",
   "metadata": {},
   "outputs": [
    {
     "name": "stdout",
     "output_type": "stream",
     "text": [
      "(1, 'human resourse')\n",
      "(2, 'IT')\n",
      "(3, 'sales')\n",
      "(4, 'marketing')\n",
      "(1, 'human resourse')\n",
      "(2, 'IT')\n",
      "(3, 'sales')\n",
      "(4, 'marketing')\n",
      "(1, 'human resourse')\n",
      "(2, 'IT')\n",
      "(3, 'sales')\n",
      "(4, 'marketing')\n"
     ]
    }
   ],
   "source": [
    "for i in cur.fetchall():\n",
    "    print(i)"
   ]
  },
  {
   "cell_type": "code",
   "execution_count": 13,
   "id": "e7cb5f57",
   "metadata": {},
   "outputs": [
    {
     "data": {
      "text/plain": [
       "<bound method CMySQLConnection.close of <mysql.connector.connection_cext.CMySQLConnection object at 0x0000019F11AD4A00>>"
      ]
     },
     "execution_count": 13,
     "metadata": {},
     "output_type": "execute_result"
    }
   ],
   "source": [
    "mydb.close"
   ]
  },
  {
   "cell_type": "code",
   "execution_count": 21,
   "id": "27f09e2c",
   "metadata": {},
   "outputs": [
    {
     "name": "stdout",
     "output_type": "stream",
     "text": [
      "(1, 'human resourse')\n",
      "(2, 'IT')\n",
      "(3, 'sales')\n",
      "(4, 'marketing')\n",
      "(1, 'human resourse')\n",
      "(2, 'IT')\n",
      "(3, 'sales')\n",
      "(4, 'marketing')\n",
      "(1, 'human resourse')\n",
      "(2, 'IT')\n",
      "(3, 'sales')\n",
      "(4, 'marketing')\n"
     ]
    }
   ],
   "source": [
    "import mysql.connector\n",
    "con = mysql.connector.connect(host = \"localhost\",user = \"root\",password = \"adwaithmp\")\n",
    "cur=con.cursor()\n",
    "cur.execute(\"use book\")\n",
    "cur.execute(\"select * from department\")\n",
    "a=cur.fetchall()\n",
    "for i in a:\n",
    "    print(i)\n",
    "con.close()    "
   ]
  },
  {
   "cell_type": "code",
   "execution_count": 23,
   "id": "a39cf87a",
   "metadata": {},
   "outputs": [],
   "source": [
    "import mysql.connector\n",
    "con = mysql.connector.connect(host = \"localhost\",user = \"root\",password = \"adwaithmp\",database = \"book\")\n",
    "cur=con.cursor()\n",
    "cur.execute(\"select * from department\")\n",
    "cur.fetchall()\n",
    "con.close()"
   ]
  },
  {
   "cell_type": "code",
   "execution_count": null,
   "id": "cfae4f70",
   "metadata": {},
   "outputs": [],
   "source": [
    "#create database"
   ]
  },
  {
   "cell_type": "code",
   "execution_count": 28,
   "id": "a87ec327",
   "metadata": {},
   "outputs": [
    {
     "data": {
      "text/plain": [
       "[(1, 'adhu'), (2, 'jagan')]"
      ]
     },
     "execution_count": 28,
     "metadata": {},
     "output_type": "execute_result"
    }
   ],
   "source": [
    "import mysql.connector\n",
    "con = mysql.connector.connect(host = \"localhost\",user = \"root\",password = \"adwaithmp\")\n",
    "cur= con.cursor()\n",
    "cur.execute(\"create database datao3\")\n",
    "cur.execute(\"use datao3\")\n",
    "cur.execute(\"create table hi1(id int,name varchar(50))\")\n",
    "cur.execute(\"insert into hi1 values(1,'adhu'),(2,'jagan') \")\n",
    "cur.execute(\"select * from hi1\")\n",
    "cur.fetchall()\n"
   ]
  },
  {
   "cell_type": "code",
   "execution_count": 30,
   "id": "5d073433",
   "metadata": {},
   "outputs": [],
   "source": [
    "con.commit()\n",
    "con.close()"
   ]
  },
  {
   "cell_type": "code",
   "execution_count": null,
   "id": "1f294f3a",
   "metadata": {},
   "outputs": [],
   "source": []
  },
  {
   "cell_type": "code",
   "execution_count": null,
   "id": "8c5a41da",
   "metadata": {},
   "outputs": [],
   "source": []
  },
  {
   "cell_type": "code",
   "execution_count": null,
   "id": "98e1d939",
   "metadata": {},
   "outputs": [],
   "source": []
  }
 ],
 "metadata": {
  "kernelspec": {
   "display_name": "Python 3 (ipykernel)",
   "language": "python",
   "name": "python3"
  },
  "language_info": {
   "codemirror_mode": {
    "name": "ipython",
    "version": 3
   },
   "file_extension": ".py",
   "mimetype": "text/x-python",
   "name": "python",
   "nbconvert_exporter": "python",
   "pygments_lexer": "ipython3",
   "version": "3.9.13"
  }
 },
 "nbformat": 4,
 "nbformat_minor": 5
}
