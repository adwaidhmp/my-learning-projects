{
 "cells": [
  {
   "cell_type": "code",
   "execution_count": 5,
   "id": "a6f6e6d9",
   "metadata": {
    "scrolled": true
   },
   "outputs": [
    {
     "name": "stdout",
     "output_type": "stream",
     "text": [
      "enter a number5\n",
      "the number is not divisible by 2 and 3\n"
     ]
    }
   ],
   "source": [
    "a=int(input(\"enter a number\"))\n",
    "if a % 3 ==0 and a % 2 == 0:\n",
    "    print(\"the number is  divisible by 2 and 3\")\n",
    "elif a % 3 == 0:\n",
    "    print(\"the number is divisible by 3\")\n",
    "elif a % 2 == 0:\n",
    "    print(\"the number is divisible by 2\")#sss\n",
    "else:\n",
    "    print(\"the number is not divisible by 2 and 3\")"
   ]
  },
  {
   "cell_type": "code",
   "execution_count": 6,
   "id": "1383f0ad",
   "metadata": {},
   "outputs": [
    {
     "name": "stdout",
     "output_type": "stream",
     "text": [
      "enter a number5\n",
      "friday\n"
     ]
    }
   ],
   "source": [
    "a=int(input(\"enter a number\"))\n",
    "if a == 1:\n",
    "    print(\"monday\")\n",
    "elif a== 2:\n",
    "    print(\"tuesday\")\n",
    "elif a==3:\n",
    "    print(\"wednesday\")\n",
    "elif a==4:\n",
    "    print(\"thursday\")\n",
    "elif a==5:\n",
    "    print(\"friday\")\n",
    "elif a==6:\n",
    "    print(\"saturday\")\n",
    "elif a==7:\n",
    "    print(\"sunday\")\n",
    "elif a>7:\n",
    "    print(\"not valid\")\n",
    "    "
   ]
  },
  {
   "cell_type": "code",
   "execution_count": 7,
   "id": "4b9acae6",
   "metadata": {},
   "outputs": [
    {
     "name": "stdout",
     "output_type": "stream",
     "text": [
      "enter a stringhaii\n",
      "h *a *i *i *"
     ]
    }
   ],
   "source": [
    "a=(input(\"enter a string\"))\n",
    "for i in a:\n",
    "    print(i,end=\" *\")"
   ]
  },
  {
   "cell_type": "code",
   "execution_count": 9,
   "id": "af9629f1",
   "metadata": {
    "scrolled": true
   },
   "outputs": [
    {
     "name": "stdout",
     "output_type": "stream",
     "text": [
      "enter a number5\n",
      "enter a number55\n",
      "enter a number55\n",
      "enter a number34\n",
      "enter a number24\n",
      "average of given numbers: 34.6\n"
     ]
    }
   ],
   "source": [
    "sum=0\n",
    "count = 5\n",
    "for i in  range(5):\n",
    "    a=int(input(\"enter a number\"))\n",
    "    sum=sum+a\n",
    "print(\"average of given numbers:\",sum/count)"
   ]
  },
  {
   "cell_type": "markdown",
   "id": "1bc5c761",
   "metadata": {},
   "source": [
    "a= int(input(\"enter a number \"))\n",
    "for i in range (1,11):\n",
    "    print(a, \"*\",i,\":\",a*i)"
   ]
  },
  {
   "cell_type": "code",
   "execution_count": 10,
   "id": "378c288a",
   "metadata": {},
   "outputs": [
    {
     "name": "stdout",
     "output_type": "stream",
     "text": [
      "enter a number5\n",
      "5 * 1 : 5\n",
      "5 * 2 : 10\n",
      "5 * 3 : 15\n",
      "5 * 4 : 20\n",
      "5 * 5 : 25\n",
      "5 * 6 : 30\n",
      "5 * 7 : 35\n",
      "5 * 8 : 40\n",
      "5 * 9 : 45\n",
      "5 * 10 : 50\n"
     ]
    }
   ],
   "source": [
    "a=int(input(\"enter a number\"))\n",
    "i=1\n",
    "while i <= 10:\n",
    "    print(a, \"*\",i,\":\",a*i)\n",
    "    i=i+1"
   ]
  },
  {
   "cell_type": "markdown",
   "id": "695db097",
   "metadata": {},
   "source": [
    "i=1\n",
    "sum = 0\n",
    "while i<=5: \n",
    "    a=(int(input(\"enter a number\")))\n",
    "    sum=sum+a\n",
    "    i=i+1\n",
    "print(\"average =\",sum/5)\n"
   ]
  },
  {
   "cell_type": "code",
   "execution_count": 12,
   "id": "7935f2b2",
   "metadata": {},
   "outputs": [
    {
     "name": "stdout",
     "output_type": "stream",
     "text": [
      "enter a number5\n",
      "5 \n",
      "5 5 \n",
      "5 5 5 \n",
      "5 5 5 5 \n",
      "5 5 5 5 5 \n"
     ]
    }
   ],
   "source": [
    "a=int(input(\"enter a number\"))\n",
    "for i in range(a):\n",
    "    for j in range(i+1):\n",
    "        print(a,end=\" \")\n",
    "    print()"
   ]
  },
  {
   "cell_type": "code",
   "execution_count": 13,
   "id": "a73b1d6b",
   "metadata": {},
   "outputs": [
    {
     "name": "stdout",
     "output_type": "stream",
     "text": [
      "* \n",
      "* * \n",
      "* * * \n",
      "* * * * \n",
      "* * * * * \n"
     ]
    }
   ],
   "source": [
    "for i in range(5):#1\n",
    "    for j in range(i+1):#2(0,1)\n",
    "        print(\"*\",end =\" \")\n",
    "    print()"
   ]
  },
  {
   "cell_type": "code",
   "execution_count": 14,
   "id": "2a84975c",
   "metadata": {},
   "outputs": [
    {
     "name": "stdout",
     "output_type": "stream",
     "text": [
      "\n",
      "1 \n",
      "2 2 \n",
      "3 3 3 \n",
      "4 4 4 4 \n"
     ]
    }
   ],
   "source": [
    "for i in range(5):\n",
    "    for j in range(i):\n",
    "        print(i,end=\" \")\n",
    "    print()"
   ]
  },
  {
   "cell_type": "code",
   "execution_count": 15,
   "id": "95ce6056",
   "metadata": {},
   "outputs": [
    {
     "name": "stdout",
     "output_type": "stream",
     "text": [
      "1 \n",
      "1 2 \n",
      "1 2 3 \n",
      "1 2 3 4 \n",
      "1 2 3 4 5 \n"
     ]
    }
   ],
   "source": [
    "for i in range(1,6):\n",
    "    for j in range(1,i+1):\n",
    "        print(j,end=\" \")\n",
    "    print()"
   ]
  },
  {
   "cell_type": "code",
   "execution_count": 16,
   "id": "fc928ee2",
   "metadata": {},
   "outputs": [
    {
     "name": "stdout",
     "output_type": "stream",
     "text": [
      "1 \n",
      "1 3 \n",
      "1 3 5 \n",
      "1 3 5 7 \n",
      "1 3 5 7 9 \n"
     ]
    }
   ],
   "source": [
    "for i in range(1,6):\n",
    "    for j in range(1,i+1):\n",
    "        print(j*2-1,end=\" \")\n",
    "    print()"
   ]
  },
  {
   "cell_type": "code",
   "execution_count": 17,
   "id": "f7bf6a37",
   "metadata": {},
   "outputs": [
    {
     "name": "stdout",
     "output_type": "stream",
     "text": [
      "enter a number45\n",
      "119622220865480194561963161495657715064383733760000000000\n"
     ]
    }
   ],
   "source": [
    "a=int(input(\"enter a number\"))\n",
    "fact=1\n",
    "for i in range(1,a+1):\n",
    "    fact=fact*i\n",
    "print(fact)\n",
    "    \n",
    "    "
   ]
  },
  {
   "cell_type": "code",
   "execution_count": 18,
   "id": "25e26d20",
   "metadata": {},
   "outputs": [
    {
     "name": "stdout",
     "output_type": "stream",
     "text": [
      "enter a number5\n",
      "factors are 1 5 "
     ]
    }
   ],
   "source": [
    "a=int(input(\"enter a number\"))\n",
    "print(\"factors are\",end=\" \")\n",
    "for i in range(1,a+1):\n",
    "    if a%i==0:\n",
    "        print(i,end=\" \")"
   ]
  },
  {
   "cell_type": "code",
   "execution_count": 19,
   "id": "5a02a3aa",
   "metadata": {},
   "outputs": [
    {
     "name": "stdout",
     "output_type": "stream",
     "text": [
      "enter a number34\n",
      "its not a prime number\n"
     ]
    }
   ],
   "source": [
    "\n",
    "a=int(input(\"enter a number\"))\n",
    "b=0\n",
    "if a<=1:\n",
    "    print(\"it's not a prime number\")\n",
    "    b=1\n",
    "elif a==2:\n",
    "    print(a,\"its a prime number\")\n",
    "    b=1\n",
    "else: \n",
    "    for i in range(2,a):\n",
    "        if a%i==0:\n",
    "            b=2\n",
    "if b==0:\n",
    "    print(a,\"its a prime number\")\n",
    "elif b==2:\n",
    "    print(\"its not a prime number\")\n",
    "else:\n",
    "    pass\n",
    "        "
   ]
  },
  {
   "cell_type": "code",
   "execution_count": 21,
   "id": "01b25f89",
   "metadata": {},
   "outputs": [
    {
     "name": "stdout",
     "output_type": "stream",
     "text": [
      "enter lower limit15\n",
      "enter the upper limit25\n",
      "17 is a prime number\n",
      "19 is a prime number\n",
      "23 is a prime number\n"
     ]
    }
   ],
   "source": [
    "a=int(input(\"enter lower limit\"))\n",
    "b=int(input(\"enter the upper limit\"))\n",
    "\n",
    "for i in range(a,b+1):\n",
    "    c = 0\n",
    "    if i<=1:\n",
    "        c=2\n",
    "    elif i==2:\n",
    "        print(i,\"its prime\")\n",
    "        c=2\n",
    "    else:\n",
    "        for j in range(2,i):\n",
    "            if i%j==0:\n",
    "                c=1\n",
    "    if c==0:\n",
    "        print(i,\"is a prime number\")\n",
    "                \n",
    "            "
   ]
  },
  {
   "cell_type": "code",
   "execution_count": 22,
   "id": "c4f2d103",
   "metadata": {},
   "outputs": [
    {
     "name": "stdout",
     "output_type": "stream",
     "text": [
      "1 2 3 \n",
      "4 5 6 \n",
      "7 8 9 \n"
     ]
    }
   ],
   "source": [
    "a=[[1,2,3],[4,5,6],[7,8,9]]\n",
    "for i in a:\n",
    "    for j in i:\n",
    "        print(j,end = \" \")\n",
    "    print()"
   ]
  },
  {
   "cell_type": "code",
   "execution_count": 23,
   "id": "0293c35b",
   "metadata": {},
   "outputs": [
    {
     "name": "stdout",
     "output_type": "stream",
     "text": [
      "2\n"
     ]
    }
   ],
   "source": [
    "a=[3,5,11,2,3,4,6,7,9]\n",
    "m=a[0]\n",
    "for i in a:\n",
    "    if i<m:\n",
    "        m=i\n",
    "print(m)"
   ]
  },
  {
   "cell_type": "code",
   "execution_count": 24,
   "id": "acfb1a25",
   "metadata": {},
   "outputs": [
    {
     "name": "stdout",
     "output_type": "stream",
     "text": [
      "enter the number of elememts in list5\n",
      "enter numbers1\n",
      "enter numbers2\n",
      "enter numbers3\n",
      "enter numbers4\n",
      "enter numbers5\n",
      "[1, 2, 3, 4, 5]\n"
     ]
    }
   ],
   "source": [
    "a=int(input(\"enter the number of elememts in list\"))\n",
    "f=[]\n",
    "for i in range(a):\n",
    "    d=int(input(\"enter numbers\"))\n",
    "    f.append(d)\n",
    "print(f)"
   ]
  },
  {
   "cell_type": "code",
   "execution_count": 25,
   "id": "1a0fbc89",
   "metadata": {},
   "outputs": [
    {
     "name": "stdout",
     "output_type": "stream",
     "text": [
      "enter the number of elememts in list3\n",
      "enter numbers2\n",
      "enter numbers4\n",
      "enter numbers5\n",
      "[2, 4, 5]\n",
      "[2, 4, 5]\n"
     ]
    }
   ],
   "source": [
    "a=int(input(\"enter the number of elememts in list\"))\n",
    "f=[]\n",
    "for i in range(a):\n",
    "    d=int(input(\"enter numbers\"))\n",
    "    f.append(d)\n",
    "print(f)\n",
    "j=[]\n",
    "\n",
    "for i in f:\n",
    "   if i not in j:\n",
    "    j.append(i)\n",
    "print(j)\n",
    "        \n",
    "        "
   ]
  },
  {
   "cell_type": "code",
   "execution_count": 26,
   "id": "9b8beb37",
   "metadata": {},
   "outputs": [
    {
     "name": "stdout",
     "output_type": "stream",
     "text": [
      "enter a wordhaii\n",
      "h***"
     ]
    }
   ],
   "source": [
    "a=[\"a\",\"e\",\"i\",\"o\",\"u\",\"A\",\"E\",\"I\",\"O\",\"U\"]\n",
    "b=input(\"enter a word\")\n",
    "for i in b:\n",
    "        if i in a:\n",
    "            print(\"*\",end= \"\")\n",
    "        else:\n",
    "            print(i,end=\"\")"
   ]
  },
  {
   "cell_type": "code",
   "execution_count": 27,
   "id": "1966465e",
   "metadata": {},
   "outputs": [
    {
     "name": "stdout",
     "output_type": "stream",
     "text": [
      "enter a wordhello\n",
      "hll"
     ]
    }
   ],
   "source": [
    "a=[\"a\",\"e\",\"i\",\"o\",\"u\",\"A\",\"E\",\"I\",\"O\",\"U\"]\n",
    "b=input(\"enter a word\")\n",
    "for i in b:\n",
    "        if i not in a:\n",
    "            print(i,end=\"\")"
   ]
  },
  {
   "cell_type": "code",
   "execution_count": 28,
   "id": "a8e7361c",
   "metadata": {},
   "outputs": [
    {
     "name": "stdout",
     "output_type": "stream",
     "text": [
      "enter a word : helooo\n",
      "number of vowels in the given string is : 4\n"
     ]
    }
   ],
   "source": [
    "a=[\"a\",\"e\",\"i\",\"o\",\"u\",\"A\",\"E\",\"I\",\"O\",\"U\"]\n",
    "b=input(\"enter a word : \")\n",
    "s=[]\n",
    "for i in b:\n",
    "    if i in a:\n",
    "        s.append(i)\n",
    "print(\"number of vowels in the given string is :\" ,len(s))     "
   ]
  },
  {
   "cell_type": "code",
   "execution_count": 29,
   "id": "fe095d69",
   "metadata": {},
   "outputs": [
    {
     "name": "stdout",
     "output_type": "stream",
     "text": [
      "enter a word good\n",
      "4\n"
     ]
    }
   ],
   "source": [
    "a=input(\"enter a word \")\n",
    "count=0\n",
    "for i in a:\n",
    "    count=count+1\n",
    "print(count)"
   ]
  },
  {
   "cell_type": "code",
   "execution_count": 37,
   "id": "84cf96f5",
   "metadata": {},
   "outputs": [
    {
     "name": "stdout",
     "output_type": "stream",
     "text": [
      "enter the number of  elemnts you want in the list3\n",
      "enter the elemnt2\n",
      "enter the elemnt3\n",
      "enter the elemnt4\n",
      "[2, 3, 4]\n",
      "the largest number in the given list 4\n"
     ]
    }
   ],
   "source": [
    "a=int(input(\"enter the number of  elemnts you want in the list\"))\n",
    "s=[]\n",
    "for i in range(a):\n",
    "    b=int(input(\"enter the elemnt\"))\n",
    "    s.append(b)\n",
    "print(s)\n",
    "m=s[0]\n",
    "for i in s:\n",
    "    if i>m:\n",
    "        m=i\n",
    "print(\"the largest number in the given list\",m)"
   ]
  },
  {
   "cell_type": "code",
   "execution_count": 36,
   "id": "82324f9f",
   "metadata": {},
   "outputs": [
    {
     "name": "stdout",
     "output_type": "stream",
     "text": [
      " enter a string malayalam\n",
      "palindrome\n"
     ]
    }
   ],
   "source": [
    "a=input(\" enter a string \")\n",
    "if a==a[::-1]:\n",
    "    print(\"palindrome\")\n",
    "else:\n",
    "    print(\"its not palindrme\")"
   ]
  },
  {
   "cell_type": "code",
   "execution_count": 4,
   "id": "3809ac19",
   "metadata": {},
   "outputs": [
    {
     "name": "stdout",
     "output_type": "stream",
     "text": [
      "Enter how many words: 10\n",
      "Enter the word: malayalam\n",
      "Enter the word: english\n",
      "Enter the word: malayalama\n",
      "Enter the word: sdggsG\n",
      "Enter the word: sZRtgr\n",
      "Enter the word: aer\n",
      "Enter the word: aerae\n",
      "Enter the word: raer\n",
      "Enter the word: yhaer\n",
      "Enter the word: yaery\n",
      "List of words: ['malayalam', 'english', 'malayalama', 'sdggsG', 'sZRtgr', 'aer', 'aerae', 'raer', 'yhaer', 'yaery']\n",
      "malayalam is a palindrome\n",
      "english is not a palindrome\n",
      "malayalama is not a palindrome\n",
      "sdggsG is not a palindrome\n",
      "sZRtgr is not a palindrome\n",
      "aer is not a palindrome\n",
      "aerae is not a palindrome\n",
      "raer is not a palindrome\n",
      "yhaer is not a palindrome\n",
      "yaery is not a palindrome\n"
     ]
    }
   ],
   "source": [
    "a = int(input(\"Enter how many words: \"))\n",
    "m = []\n",
    "\n",
    "for i in range(a):\n",
    "    b = input(\"Enter the word: \")\n",
    "    m.append(b)\n",
    "\n",
    "print(\"List of words:\", m)\n",
    "\n",
    "for word in m:\n",
    "    if word == word[::-1]:  \n",
    "        print(f\"{word} is a palindrome\")\n",
    "    else:\n",
    "        print(f\"{word} is not a palindrome\")\n"
   ]
  },
  {
   "cell_type": "raw",
   "id": "d7ce4c2e",
   "metadata": {},
   "source": []
  },
  {
   "cell_type": "code",
   "execution_count": 32,
   "id": "ea33cd0a",
   "metadata": {},
   "outputs": [
    {
     "name": "stdout",
     "output_type": "stream",
     "text": [
      "enter a sentence hai good morning\n",
      "hai :  3\n",
      "good :  4\n",
      "morning :  7\n"
     ]
    }
   ],
   "source": [
    "a=input(\"enter a sentence \")\n",
    "b=a.split()\n",
    "b\n",
    "for i in b:\n",
    "    print(i,\": \",len(i))\n",
    "    "
   ]
  },
  {
   "cell_type": "code",
   "execution_count": 33,
   "id": "c71c8a10",
   "metadata": {},
   "outputs": [
    {
     "name": "stdout",
     "output_type": "stream",
     "text": [
      "enter a string goodddd\n",
      "['goodddd']\n",
      "go "
     ]
    }
   ],
   "source": [
    "a=input(\"enter a string \")\n",
    "b=a.split()\n",
    "print(b)\n",
    "for i in b:\n",
    "    print(i[0:2],end= \" \")"
   ]
  },
  {
   "cell_type": "code",
   "execution_count": 38,
   "id": "c9c1645e",
   "metadata": {
    "scrolled": true
   },
   "outputs": [
    {
     "name": "stdout",
     "output_type": "stream",
     "text": [
      "[1, 2, 3, 4, 5, 6, 7, 8, 9]\n"
     ]
    }
   ],
   "source": [
    "a=[[1,2,3],[4,5,6],[7,8,9]]\n",
    "b=[]\n",
    "for i in a:\n",
    "    for j in i:\n",
    "        b.append(j)\n",
    "print(b)\n",
    "    "
   ]
  },
  {
   "cell_type": "code",
   "execution_count": 39,
   "id": "9976103b",
   "metadata": {},
   "outputs": [
    {
     "name": "stdout",
     "output_type": "stream",
     "text": [
      "enter a string heiloo\n",
      "['heiloo']\n",
      "Heiloo "
     ]
    }
   ],
   "source": [
    "a=input(\"enter a string \")\n",
    "b=a.split()\n",
    "print(b)\n",
    "for i in b:\n",
    "    print(i.capitalize(), end =\" \")\n",
    "   \n",
    "                                                                                                                                                                                                                                                                                                                                                                                                                                                                                                                                                                                                                                                                    "
   ]
  },
  {
   "cell_type": "code",
   "execution_count": 9,
   "id": "25aaf6d5",
   "metadata": {},
   "outputs": [
    {
     "name": "stdout",
     "output_type": "stream",
     "text": [
      "enter 1st stringhai\n",
      "enter the 2nd stringhello\n",
      "its not anegram\n"
     ]
    }
   ],
   "source": [
    "a=input(\"enter 1st string\")\n",
    "b=input(\"enter the 2nd string\")\n",
    "if sorted(a)==sorted(b):\n",
    "    print(\"its anegram\")\n",
    "else:\n",
    "    print(\"its not anegram\")"
   ]
  },
  {
   "cell_type": "code",
   "execution_count": 11,
   "id": "ac86637e",
   "metadata": {},
   "outputs": [
    {
     "name": "stdout",
     "output_type": "stream",
     "text": [
      "enter the list 1,2,3,4,5,6\n",
      "enter the 2nd list1,3,5,7,9,2\n",
      "[1, 2, 3, 5]\n"
     ]
    }
   ],
   "source": [
    "a=list(eval(input(\"enter the list \")))\n",
    "b=list(eval(input(\"enter the 2nd list\")))\n",
    "c=[]\n",
    "for i in a:\n",
    "    for j in b:\n",
    "        if i == j:\n",
    "            c.append(j)\n",
    "print(c)\n"
   ]
  },
  {
   "cell_type": "code",
   "execution_count": 2,
   "id": "47739989",
   "metadata": {},
   "outputs": [
    {
     "name": "stdout",
     "output_type": "stream",
     "text": [
      "how many words4\n",
      "enter a string this\n",
      "enter a string is\n",
      "enter a string a\n",
      "enter a string sentence\n",
      "['this', 'is', 'a', 'sentence']\n",
      " this is a sentence\n"
     ]
    }
   ],
   "source": [
    "a=[]\n",
    "b=int(input(\"how many words\"))\n",
    "for i in range(b):\n",
    "    c=input(\"enter a string \")\n",
    "    a.append(c)\n",
    "print(a)\n",
    "s=\"\"\n",
    "for i in a:\n",
    "    s=s+\" \"+i\n",
    "print(s)"
   ]
  },
  {
   "cell_type": "code",
   "execution_count": 15,
   "id": "1b6d145e",
   "metadata": {},
   "outputs": [
    {
     "name": "stdout",
     "output_type": "stream",
     "text": [
      "enter a list 1,2,3,4,5\n",
      "enter a list 1,2,3,4,5,6,7,8,9\n",
      "[1, 2, 3, 4, 5, 6, 7, 8, 9]\n"
     ]
    }
   ],
   "source": [
    "a=list(eval(input(\"enter a list \")))\n",
    "b=list(eval(input(\"enter a list \")))\n",
    "c=[]\n",
    "for j in a:\n",
    "    if j!=j:\n",
    "        c.append(j)\n",
    "for i in b:\n",
    "    if i not in c:\n",
    "        c.append(i)\n",
    "print(c)"
   ]
  },
  {
   "cell_type": "code",
   "execution_count": 26,
   "id": "0c46af68",
   "metadata": {},
   "outputs": [
    {
     "name": "stdout",
     "output_type": "stream",
     "text": [
      "enter a string apple@123\n",
      "consonents are 3\n"
     ]
    }
   ],
   "source": [
    "a=\"aeiouAEIOU\"\n",
    "b=input(\"enter a string \")\n",
    "c=[]\n",
    "for i in b:\n",
    "    if i.isalpha():\n",
    "        if i not in a:\n",
    "            c.append(i)\n",
    "print(\"consonents are\",len(c))\n",
    "        "
   ]
  },
  {
   "cell_type": "code",
   "execution_count": 25,
   "id": "506d0b0d",
   "metadata": {},
   "outputs": [
    {
     "data": {
      "text/plain": [
       "False"
      ]
     },
     "execution_count": 25,
     "metadata": {},
     "output_type": "execute_result"
    }
   ],
   "source": [
    "a=\"apple@123\"\n",
    "a.isalpha()"
   ]
  },
  {
   "cell_type": "code",
   "execution_count": 30,
   "id": "2a3f1189",
   "metadata": {},
   "outputs": [
    {
     "data": {
      "text/plain": [
       "True"
      ]
     },
     "execution_count": 30,
     "metadata": {},
     "output_type": "execute_result"
    }
   ],
   "source": [
    "a=\"apple123\"\n",
    "a.isalnum()#alphabets and numerics"
   ]
  },
  {
   "cell_type": "code",
   "execution_count": 32,
   "id": "be537aba",
   "metadata": {},
   "outputs": [
    {
     "data": {
      "text/plain": [
       "True"
      ]
     },
     "execution_count": 32,
     "metadata": {},
     "output_type": "execute_result"
    }
   ],
   "source": [
    "a=\"123\"\n",
    "a.isdigit()"
   ]
  },
  {
   "cell_type": "code",
   "execution_count": 38,
   "id": "7245eaec",
   "metadata": {},
   "outputs": [
    {
     "name": "stdout",
     "output_type": "stream",
     "text": [
      "enter a number 123a\n",
      "its not a number\n"
     ]
    }
   ],
   "source": [
    "a=input(\"enter a number \")\n",
    "s=0\n",
    "if a.isdigit():\n",
    "    for i in a:\n",
    "        s=int(i)+s\n",
    "    print(s)\n",
    "else:\n",
    "    print(\"its not a number\")\n"
   ]
  },
  {
   "cell_type": "code",
   "execution_count": 45,
   "id": "b807ce83",
   "metadata": {},
   "outputs": [
    {
     "name": "stdout",
     "output_type": "stream",
     "text": [
      "enter a sentencethis is a sentnce\n",
      "['this', 'is', 'a', 'sentnce']\n",
      "longest word is sentnce\n"
     ]
    }
   ],
   "source": [
    "a=input(\"enter a sentence\")\n",
    "b=a.split()\n",
    "#print(b)\n",
    "c=\"\"\n",
    "for i in b:\n",
    "    if len(i)>len(c):\n",
    "        c=i\n",
    "print(\"longest word is\",c)"
   ]
  },
  {
   "cell_type": "code",
   "execution_count": 23,
   "id": "9d96702b",
   "metadata": {},
   "outputs": [
    {
     "name": "stdout",
     "output_type": "stream",
     "text": [
      "enter the list of elements seperated by comma hindi,eglish,malayalam,deed,reer,spanish\n",
      "['hindi', 'eglish', 'malayalam', 'deed', 'reer', 'spanish']\n",
      "the palindromes in the given list are :  malayalam,deed,reer, "
     ]
    }
   ],
   "source": [
    "a=input(\"enter the list of elements seperated by comma \")\n",
    "b=a.split(\",\")\n",
    "print(b)\n",
    "c=\"\"\n",
    "for i in b:\n",
    "    if i==i[::-1]:\n",
    "        c=c+i+\",\"\n",
    "print(\"the palindromes in the given list are : \",c,end=\" \")\n",
    "        "
   ]
  },
  {
   "cell_type": "code",
   "execution_count": 19,
   "id": "954e9bf1",
   "metadata": {},
   "outputs": [
    {
     "name": "stdout",
     "output_type": "stream",
     "text": [
      "enter a word: malayalam\n",
      "malayalam is palindrome\n"
     ]
    }
   ],
   "source": [
    "a=input(\"enter a word: \")\n",
    "if a==a[::-1]:\n",
    "    print(a,\"is palindrome\")"
   ]
  },
  {
   "cell_type": "code",
   "execution_count": 19,
   "id": "457cf4d4",
   "metadata": {},
   "outputs": [
    {
     "name": "stdout",
     "output_type": "stream",
     "text": [
      "enter a stringthis is a sentence\n",
      "sentence a is this\n"
     ]
    }
   ],
   "source": [
    "a=input(\"enter a string\")\n",
    "b=a[::-1]\n",
    "c=b.split()\n",
    "d=[e[::-1]for e in c]\n",
    "f=\" \".join(d)\n",
    "print(f)"
   ]
  },
  {
   "cell_type": "code",
   "execution_count": 37,
   "id": "1465b4e4",
   "metadata": {},
   "outputs": [
    {
     "name": "stdout",
     "output_type": "stream",
     "text": [
      "enter a string this is a sentence\n",
      "['sentence', 'a', 'is', 'this']\n",
      "sentence a is this\n",
      "<class 'str'>\n"
     ]
    }
   ],
   "source": [
    "a=input(\"enter a string \")\n",
    "b=a.split()\n",
    "c=b[::-1]\n",
    "print(c)\n",
    "d=\" \".join(c)\n",
    "print(d)\n",
    "print(type(d))"
   ]
  },
  {
   "cell_type": "code",
   "execution_count": 4,
   "id": "c56f7771",
   "metadata": {},
   "outputs": [
    {
     "name": "stdout",
     "output_type": "stream",
     "text": [
      "enter a string this is a sentence\n",
      "['this', 'is', 'a', 'sentence']\n",
      "sentence a is this "
     ]
    }
   ],
   "source": [
    "#program to reverse a string without using slicing\n",
    "a=input(\"enter a string \")\n",
    "b=a.split()\n",
    "print(b)\n",
    "for i in reversed(b):\n",
    "    print(i,end=\" \")\n",
    "    \n",
    "    "
   ]
  },
  {
   "cell_type": "code",
   "execution_count": 7,
   "id": "e7e12a68",
   "metadata": {},
   "outputs": [
    {
     "name": "stdout",
     "output_type": "stream",
     "text": [
      "enter a string this is a sentence\n",
      "['this', 'is', 'a', 'sentence']\n",
      "length of words in the string are: \n",
      "this 4\n",
      "is 2\n",
      "a 1\n",
      "sentence 8\n"
     ]
    }
   ],
   "source": [
    "#Print the length of each words in a sentence.\n",
    "a=input(\"enter a string \")\n",
    "b=a.split()\n",
    "print(b)\n",
    "print(\"length of words in the string are: \")\n",
    "for i in b:\n",
    "    print(i,len(i))\n",
    "        \n",
    "    "
   ]
  },
  {
   "cell_type": "code",
   "execution_count": 34,
   "id": "88905426",
   "metadata": {},
   "outputs": [
    {
     "name": "stdout",
     "output_type": "stream",
     "text": [
      "enter a  number 234\n",
      "sum of the given digit is 9\n"
     ]
    }
   ],
   "source": [
    "#calculate sum of digits in a number\n",
    "a=input(\"enter a  number \")\n",
    "c=0\n",
    "for i in a:\n",
    "    c=c+int(i)\n",
    "print(\"sum of the given digit is\",c)"
   ]
  },
  {
   "cell_type": "code",
   "execution_count": 106,
   "id": "85911cf7",
   "metadata": {
    "scrolled": true
   },
   "outputs": [
    {
     "name": "stdout",
     "output_type": "stream",
     "text": [
      "enter a fruit :apple\n",
      "2\n"
     ]
    }
   ],
   "source": [
    "#Count the occurrence of words in a list\n",
    "a=[\"apple\",\"mango\",\"orange\",\"grapes\",\"papaya\",'apple',\"grapes\"]\n",
    "b=input(\"enter a fruit :\")\n",
    "c=0\n",
    "for i in a:\n",
    "    if i==b:\n",
    "        c=c+1\n",
    "print(c)"
   ]
  },
  {
   "cell_type": "code",
   "execution_count": 8,
   "id": "a5026944",
   "metadata": {},
   "outputs": [
    {
     "name": "stdout",
     "output_type": "stream",
     "text": [
      "enter the range of the series: 10\n",
      "0 1 1 2 3 5 8 13 21 34 \n",
      "sum= 88\n"
     ]
    }
   ],
   "source": [
    "#Print first ‘n’ Fibonacci numbers along with the sum of the terms, where n is accepted from the user\n",
    "a=int(input(\"enter the range of the series: \"))\n",
    "c=0\n",
    "b=1\n",
    "d=0\n",
    "f=1\n",
    "if a>=2:\n",
    "    print(c,b,end=\" \")\n",
    "    for i in range(a-2):\n",
    "        d=c+b\n",
    "        print(d,end=\" \")\n",
    "        f=f+d\n",
    "        c=b\n",
    "        b=d\n",
    "elif a==1:\n",
    "    print(c)\n",
    "elif a==0:\n",
    "    print(\"enter a valid range\")\n",
    "    \n",
    "else:\n",
    "    print(\"invalid input\")\n",
    "    \n",
    "if a>1:\n",
    "    print()\n",
    "    print(\"sum=\",f)\n",
    "else:\n",
    "    print(\"sum = 0\")\n",
    "    \n",
    "#0,1,1,2,3,5,8,13    \n",
    "    "
   ]
  },
  {
   "cell_type": "code",
   "execution_count": null,
   "id": "94d07ca1",
   "metadata": {},
   "outputs": [],
   "source": [
    "#Find the key in the dictionary with highest value.\n",
    "a={1:\"one\",2:\"two\"}"
   ]
  },
  {
   "cell_type": "code",
   "execution_count": 149,
   "id": "450aa663",
   "metadata": {},
   "outputs": [
    {
     "name": "stdout",
     "output_type": "stream",
     "text": [
      "enter a string one\n",
      "one is a unique string\n"
     ]
    }
   ],
   "source": [
    "#Check if a string contains all the unique characters.\n",
    "a=input(\"enter a string \")\n",
    "b=\"\"\n",
    "for i in a:\n",
    "    if i not in b:\n",
    "        b=b+i\n",
    "if a==b:\n",
    "    print(b,\"is a unique string\")\n",
    "else:\n",
    "    print(\"its not a unique string\")\n",
    "        "
   ]
  },
  {
   "cell_type": "code",
   "execution_count": 154,
   "id": "666cd02d",
   "metadata": {},
   "outputs": [
    {
     "name": "stdout",
     "output_type": "stream",
     "text": [
      "enter a stringmalayalam\n",
      "a this is the repeated character\n"
     ]
    }
   ],
   "source": [
    "#Find the first repeated character in a string\n",
    "a=input(\"enter a string\")\n",
    "b=\"\"\n",
    "for i in a:\n",
    "    if i not in b:\n",
    "        b=b+i\n",
    "    else:\n",
    "        print(i,\"this is the repeated character\")\n",
    "        break\n",
    "        \n",
    "#print(a,b)\n",
    "\n",
    "    "
   ]
  },
  {
   "cell_type": "code",
   "execution_count": 1,
   "id": "56854161",
   "metadata": {},
   "outputs": [
    {
     "name": "stdout",
     "output_type": "stream",
     "text": [
      "enter a number 6\n",
      "factors of 6 are : \n",
      "1 2 3 6 "
     ]
    }
   ],
   "source": [
    "#factors \n",
    "a=int(input(\"enter a number \"))\n",
    "print(\"factors of\",a,\"are : \")\n",
    "for i in range(1,a+1):\n",
    "    if a%i==0:\n",
    "        print(i,end=\" \")"
   ]
  },
  {
   "cell_type": "code",
   "execution_count": 25,
   "id": "c9bf4648",
   "metadata": {},
   "outputs": [
    {
     "name": "stdout",
     "output_type": "stream",
     "text": [
      "enter a number to check factorial : 5\n",
      "120\n"
     ]
    }
   ],
   "source": [
    "#factorial 3factorial = 1*2*3\n",
    "a=int(input(\"enter a number to check factorial : \"))\n",
    "c=1\n",
    "for i in range(1,a+1):\n",
    "    c=i*c\n",
    "print(c)"
   ]
  },
  {
   "cell_type": "code",
   "execution_count": 26,
   "id": "e2eb4e5c",
   "metadata": {},
   "outputs": [
    {
     "name": "stdout",
     "output_type": "stream",
     "text": [
      "how many numbers u want : 50\n",
      "0 1 1 2 3 5 8 13 21 34 55 89 144 233 377 610 987 1597 2584 4181 6765 10946 17711 28657 46368 75025 121393 196418 317811 514229 832040 1346269 2178309 3524578 5702887 9227465 14930352 24157817 39088169 63245986 102334155 165580141 267914296 433494437 701408733 1134903170 1836311903 2971215073 4807526976 7778742049 "
     ]
    }
   ],
   "source": [
    "#fibonacii series\n",
    "a=int(input(\"how many numbers u want : \"))\n",
    "b=0\n",
    "c=1\n",
    "d=0\n",
    "print(b,c,end=\" \")\n",
    "for i in range(a-2):\n",
    "    d=b+c\n",
    "    print(d,end= \" \")\n",
    "    b=c\n",
    "    c=d    "
   ]
  },
  {
   "cell_type": "code",
   "execution_count": 1,
   "id": "7118a03b",
   "metadata": {},
   "outputs": [
    {
     "name": "stdout",
     "output_type": "stream",
     "text": [
      "[1, 2, 3, 4, 5, 6, 7, 8, 9]\n",
      "[1, 2, 3, 4, 5, 6, 7, 8]\n",
      "[1, 2, 3, 4, 5, 6, 7]\n",
      "[1, 3, 4, 5, 6, 7]\n"
     ]
    }
   ],
   "source": [
    "a=[1,2,3,4,5]\n",
    "a.append(6)#to add one number to a list\n",
    "a.extend([7,8])#to add more than one number to list\n",
    "a.insert(8,9)#first one index\n",
    "print(a)\n",
    "a.remove(9)#to remove\n",
    "print(a)\n",
    "a.pop()\n",
    "print(a)\n",
    "a.pop(1)#with index\n",
    "print(a)\n"
   ]
  },
  {
   "cell_type": "code",
   "execution_count": 3,
   "id": "d03c94c7",
   "metadata": {},
   "outputs": [
    {
     "name": "stdout",
     "output_type": "stream",
     "text": [
      "Enter a number (0 to exit): 3\n",
      "Enter a number (0 to exit): 4444444\n",
      "Enter a number (0 to exit): 44\n",
      "Enter a number (0 to exit): 2\n",
      "Enter a number (0 to exit): 5\n",
      "Enter a number (0 to exit): 6\n",
      "Enter a number (0 to exit): 7\n",
      "Enter a number (0 to exit): 0\n",
      "Exited.\n",
      "Even numbers are: [4444444, 44, 2, 6]\n",
      "Odd numbers are: [3, 5, 7]\n"
     ]
    }
   ],
   "source": [
    "b = []  \n",
    "c = []  \n",
    "\n",
    "while True:\n",
    "    a = int(input(\"Enter a number (0 to exit): \"))\n",
    "    \n",
    "    if a == 0:\n",
    "        print(\"Exited.\")\n",
    "        break\n",
    "    elif a % 2 == 0:\n",
    "        b.append(a)  \n",
    "    else:\n",
    "        c.append(a)  \n",
    "\n",
    "# Printing the results\n",
    "print(\"Even numbers are:\", b)\n",
    "print(\"Odd numbers are:\", c)\n",
    "\n",
    "\n",
    "\n",
    "    "
   ]
  },
  {
   "cell_type": "code",
   "execution_count": 2,
   "id": "fafdc1a3",
   "metadata": {},
   "outputs": [
    {
     "name": "stdout",
     "output_type": "stream",
     "text": [
      "How many years do you want to check? 1\n",
      "Enter a year: 2001\n",
      "2001 is not a leap year.\n"
     ]
    }
   ],
   "source": [
    "num_years = int(input(\"How many years do you want to check? \"))\n",
    "\n",
    "for _ in range(num_years):\n",
    "    year = int(input(\"Enter a year: \"))\n",
    "    \n",
    "\n",
    "    if (year % 4 == 0 and year % 100 != 0) or (year % 400 == 0):\n",
    "        print(f\"{year} is a leap year.\")\n",
    "    else:\n",
    "        print(f\"{year} is not a leap year.\")"
   ]
  },
  {
   "cell_type": "code",
   "execution_count": null,
   "id": "27ff45b6",
   "metadata": {},
   "outputs": [],
   "source": []
  },
  {
   "cell_type": "code",
   "execution_count": null,
   "id": "7789a7e3",
   "metadata": {},
   "outputs": [],
   "source": []
  }
 ],
 "metadata": {
  "kernelspec": {
   "display_name": "Python 3 (ipykernel)",
   "language": "python",
   "name": "python3"
  },
  "language_info": {
   "codemirror_mode": {
    "name": "ipython",
    "version": 3
   },
   "file_extension": ".py",
   "mimetype": "text/x-python",
   "name": "python",
   "nbconvert_exporter": "python",
   "pygments_lexer": "ipython3",
   "version": "3.9.13"
  }
 },
 "nbformat": 4,
 "nbformat_minor": 5
}
