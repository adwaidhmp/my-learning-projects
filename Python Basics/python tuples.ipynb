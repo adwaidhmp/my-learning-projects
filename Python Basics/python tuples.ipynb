{
 "cells": [
  {
   "cell_type": "markdown",
   "id": "c537c961",
   "metadata": {},
   "source": [
    "# tuples"
   ]
  },
  {
   "cell_type": "code",
   "execution_count": 1,
   "id": "fc992bc2",
   "metadata": {},
   "outputs": [
    {
     "data": {
      "text/plain": [
       "(1, 2, 'a', 'b', 2.3, 4.5, (3+2j), (4+2j))"
      ]
     },
     "execution_count": 1,
     "metadata": {},
     "output_type": "execute_result"
    }
   ],
   "source": [
    "tupa=(1,2,'a','b',2.3,4.5,3+2j,4+2j)\n",
    "tupa"
   ]
  },
  {
   "cell_type": "code",
   "execution_count": 2,
   "id": "eaa308b7",
   "metadata": {},
   "outputs": [
    {
     "data": {
      "text/plain": [
       "()"
      ]
     },
     "execution_count": 2,
     "metadata": {},
     "output_type": "execute_result"
    }
   ],
   "source": [
    "tupb=()\n",
    "tupb"
   ]
  },
  {
   "cell_type": "code",
   "execution_count": 3,
   "id": "bba9f5a4",
   "metadata": {},
   "outputs": [
    {
     "name": "stdout",
     "output_type": "stream",
     "text": [
      "<class 'int'>\n"
     ]
    }
   ],
   "source": [
    "tup=(50)\n",
    "print(type(tup))"
   ]
  },
  {
   "cell_type": "code",
   "execution_count": 4,
   "id": "e4581eed",
   "metadata": {},
   "outputs": [
    {
     "name": "stdout",
     "output_type": "stream",
     "text": [
      "<class 'tuple'>\n"
     ]
    }
   ],
   "source": [
    "tup=(50,)\n",
    "print(type(tup))"
   ]
  },
  {
   "cell_type": "code",
   "execution_count": 5,
   "id": "0be0fe41",
   "metadata": {},
   "outputs": [
    {
     "name": "stdout",
     "output_type": "stream",
     "text": [
      "('a', 'b', 2.3)\n"
     ]
    }
   ],
   "source": [
    "print(tupa[2:5])"
   ]
  },
  {
   "cell_type": "code",
   "execution_count": 6,
   "id": "fe640f6f",
   "metadata": {},
   "outputs": [
    {
     "name": "stdout",
     "output_type": "stream",
     "text": [
      "(1, 2, 3, 4, 5, 6)\n"
     ]
    },
    {
     "data": {
      "text/plain": [
       "8"
      ]
     },
     "execution_count": 6,
     "metadata": {},
     "output_type": "execute_result"
    }
   ],
   "source": [
    "tupc=(1,2,3,4,5,6)\n",
    "print(tupc)\n",
    "tupc[2]+tupc[4]"
   ]
  },
  {
   "cell_type": "code",
   "execution_count": 7,
   "id": "d0935c99",
   "metadata": {},
   "outputs": [
    {
     "name": "stdout",
     "output_type": "stream",
     "text": [
      "5\n"
     ]
    }
   ],
   "source": [
    "print(tupc[4])"
   ]
  },
  {
   "cell_type": "code",
   "execution_count": 8,
   "id": "b0da588f",
   "metadata": {},
   "outputs": [],
   "source": [
    "j=tupa+tupc\n",
    "j\n",
    "f=j\n"
   ]
  },
  {
   "cell_type": "code",
   "execution_count": 9,
   "id": "2846d0c9",
   "metadata": {},
   "outputs": [
    {
     "data": {
      "text/plain": [
       "(1, 2, 'a', 'b', 2.3, 4.5, (3+2j), (4+2j), 1, 2, 3, 4, 5, 6)"
      ]
     },
     "execution_count": 9,
     "metadata": {},
     "output_type": "execute_result"
    }
   ],
   "source": [
    "f"
   ]
  },
  {
   "cell_type": "code",
   "execution_count": 10,
   "id": "ca35b552",
   "metadata": {},
   "outputs": [
    {
     "data": {
      "text/plain": [
       "[1, 2, 'a', 'b', 2.3, 4.5, (3+2j), (4+2j)]"
      ]
     },
     "execution_count": 10,
     "metadata": {},
     "output_type": "execute_result"
    }
   ],
   "source": [
    "tupa=(1,2,'a','b',2.3,4.5,3+2j,4+2j)\n",
    "tupc=(1,2,3,4,5,6)\n",
    "e=list(tupa)\n",
    "e\n"
   ]
  },
  {
   "cell_type": "code",
   "execution_count": 11,
   "id": "883b8c1d",
   "metadata": {},
   "outputs": [
    {
     "data": {
      "text/plain": [
       "(1, 2, 'a', 'b', 2.3, 4.5, (3+2j), (4+2j))"
      ]
     },
     "execution_count": 11,
     "metadata": {},
     "output_type": "execute_result"
    }
   ],
   "source": [
    "e=tuple(tupa)\n",
    "e\n"
   ]
  },
  {
   "cell_type": "code",
   "execution_count": 12,
   "id": "e3db8be2",
   "metadata": {},
   "outputs": [
    {
     "name": "stdout",
     "output_type": "stream",
     "text": [
      "(1, 2, 3, 4, 5)\n",
      "(7, 8, 9)\n",
      "(1, 2, 3)\n",
      "(7, 8, 9)\n"
     ]
    }
   ],
   "source": [
    "a=(1,2,3,4,5)\n",
    "b=(7,8,9,)\n",
    "print(a)\n",
    "print(b)\n",
    "a=(1,2,3)\n",
    "b=(7,8,9)\n",
    "print(a)\n",
    "print(b)\n"
   ]
  },
  {
   "cell_type": "code",
   "execution_count": 13,
   "id": "b325cc6a",
   "metadata": {},
   "outputs": [
    {
     "name": "stdout",
     "output_type": "stream",
     "text": [
      "(1, 2, 3, 4, 5)\n"
     ]
    },
    {
     "ename": "NameError",
     "evalue": "name 'a' is not defined",
     "output_type": "error",
     "traceback": [
      "\u001b[1;31m---------------------------------------------------------------------------\u001b[0m",
      "\u001b[1;31mNameError\u001b[0m                                 Traceback (most recent call last)",
      "\u001b[1;32m~\\AppData\\Local\\Temp\\ipykernel_20476\\2465490833.py\u001b[0m in \u001b[0;36m<module>\u001b[1;34m\u001b[0m\n\u001b[0;32m      2\u001b[0m \u001b[0mprint\u001b[0m\u001b[1;33m(\u001b[0m\u001b[0ma\u001b[0m\u001b[1;33m)\u001b[0m\u001b[1;33m\u001b[0m\u001b[1;33m\u001b[0m\u001b[0m\n\u001b[0;32m      3\u001b[0m \u001b[1;32mdel\u001b[0m\u001b[1;33m(\u001b[0m\u001b[0ma\u001b[0m\u001b[1;33m)\u001b[0m\u001b[1;33m\u001b[0m\u001b[1;33m\u001b[0m\u001b[0m\n\u001b[1;32m----> 4\u001b[1;33m \u001b[0ma\u001b[0m\u001b[1;33m\u001b[0m\u001b[1;33m\u001b[0m\u001b[0m\n\u001b[0m",
      "\u001b[1;31mNameError\u001b[0m: name 'a' is not defined"
     ]
    }
   ],
   "source": [
    "#how to delete a tuple\n",
    "a=(1,2,3,4,5)\n",
    "print(a)\n",
    "del(a)\n",
    "a"
   ]
  },
  {
   "cell_type": "code",
   "execution_count": 14,
   "id": "0c0bc680",
   "metadata": {},
   "outputs": [],
   "source": [
    "tupa=(1,2,'a','b',2.3,4.5,3+2j,4+2j,1,2,)"
   ]
  },
  {
   "cell_type": "code",
   "execution_count": 15,
   "id": "752b8b67",
   "metadata": {},
   "outputs": [
    {
     "data": {
      "text/plain": [
       "10"
      ]
     },
     "execution_count": 15,
     "metadata": {},
     "output_type": "execute_result"
    }
   ],
   "source": [
    "len(tupa)"
   ]
  },
  {
   "cell_type": "code",
   "execution_count": 16,
   "id": "a3ca15df",
   "metadata": {},
   "outputs": [
    {
     "data": {
      "text/plain": [
       "2"
      ]
     },
     "execution_count": 16,
     "metadata": {},
     "output_type": "execute_result"
    }
   ],
   "source": [
    "tupa.count(2)"
   ]
  },
  {
   "cell_type": "code",
   "execution_count": 17,
   "id": "052d0365",
   "metadata": {},
   "outputs": [
    {
     "data": {
      "text/plain": [
       "4"
      ]
     },
     "execution_count": 17,
     "metadata": {},
     "output_type": "execute_result"
    }
   ],
   "source": [
    "tupa.index(2.3)"
   ]
  },
  {
   "cell_type": "code",
   "execution_count": 18,
   "id": "daa555db",
   "metadata": {},
   "outputs": [
    {
     "name": "stdout",
     "output_type": "stream",
     "text": [
      "(1, 2, 'a', 'b', 2.3, 4.5, (3+2j), (4+2j), 1, 2, 1, 2, 'a', 'b', 2.3, 4.5, (3+2j), (4+2j), 1, 2, 1, 2, 'a', 'b', 2.3, 4.5, (3+2j), (4+2j), 1, 2, 1, 2, 'a', 'b', 2.3, 4.5, (3+2j), (4+2j), 1, 2)\n"
     ]
    }
   ],
   "source": [
    "print(tupa*4)"
   ]
  },
  {
   "cell_type": "code",
   "execution_count": 19,
   "id": "e11b5ae5",
   "metadata": {},
   "outputs": [],
   "source": [
    "a=(1,2,3,4,5,6,7)\n",
    "c=('a','b','c','d','e','f')\n",
    "b=('a','B','c','D','e','F')"
   ]
  },
  {
   "cell_type": "code",
   "execution_count": 20,
   "id": "21c09052",
   "metadata": {},
   "outputs": [
    {
     "name": "stdout",
     "output_type": "stream",
     "text": [
      "7\n",
      "1\n"
     ]
    }
   ],
   "source": [
    "print(max(a))\n",
    "print(min(a))"
   ]
  },
  {
   "cell_type": "code",
   "execution_count": 21,
   "id": "9cd28724",
   "metadata": {},
   "outputs": [
    {
     "name": "stdout",
     "output_type": "stream",
     "text": [
      "f\n",
      "a\n"
     ]
    }
   ],
   "source": [
    "print(max(c))\n",
    "print(min(c))"
   ]
  },
  {
   "cell_type": "code",
   "execution_count": 22,
   "id": "718ba208",
   "metadata": {},
   "outputs": [
    {
     "name": "stdout",
     "output_type": "stream",
     "text": [
      "e\n",
      "B\n"
     ]
    }
   ],
   "source": [
    "print(max(b))\n",
    "print(min(b))"
   ]
  }
 ],
 "metadata": {
  "kernelspec": {
   "display_name": "Python 3 (ipykernel)",
   "language": "python",
   "name": "python3"
  },
  "language_info": {
   "codemirror_mode": {
    "name": "ipython",
    "version": 3
   },
   "file_extension": ".py",
   "mimetype": "text/x-python",
   "name": "python",
   "nbconvert_exporter": "python",
   "pygments_lexer": "ipython3",
   "version": "3.9.13"
  }
 },
 "nbformat": 4,
 "nbformat_minor": 5
}
