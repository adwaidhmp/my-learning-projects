{
 "cells": [
  {
   "cell_type": "markdown",
   "id": "e3f0a26d",
   "metadata": {},
   "source": [
    "# LOOPS \n",
    "\n"
   ]
  },
  {
   "cell_type": "code",
   "execution_count": 8,
   "id": "7d4f405e",
   "metadata": {},
   "outputs": [
    {
     "name": "stdout",
     "output_type": "stream",
     "text": [
      "[1, 2, 3, 1, 2, 4, 5, 3, 2, 1, 4, 5, 6]\n"
     ]
    },
    {
     "data": {
      "text/plain": [
       "[3, 4, 5, 3, 4, 5, 6]"
      ]
     },
     "execution_count": 8,
     "metadata": {},
     "output_type": "execute_result"
    }
   ],
   "source": [
    "a=[1,2,3,1,2,4,5,3,2,1,4,5,6]\n",
    "print(a)\n",
    "c=a.copy()\n",
    "for i in a:\n",
    "    if (i==1)|(i==2):\n",
    "        c.remove(i)\n",
    "c"
   ]
  },
  {
   "cell_type": "code",
   "execution_count": 11,
   "id": "083ce940",
   "metadata": {},
   "outputs": [
    {
     "name": "stdout",
     "output_type": "stream",
     "text": [
      "[1, 2, 3, 1, 2, 4, 5, 3, 2, 1, 4, 5, 6]\n"
     ]
    },
    {
     "data": {
      "text/plain": [
       "[3, 4, 5, 3, 4, 5, 6]"
      ]
     },
     "execution_count": 11,
     "metadata": {},
     "output_type": "execute_result"
    }
   ],
   "source": [
    "a=[1,2,3,1,2,4,5,3,2,1,4,5,6]\n",
    "print(a)\n",
    "b=[1,2]\n",
    "c=a.copy()\n",
    "for i in a:\n",
    "    if i in b:\n",
    "        c.remove(i)\n",
    "c"
   ]
  },
  {
   "cell_type": "code",
   "execution_count": 14,
   "id": "61635446",
   "metadata": {},
   "outputs": [
    {
     "data": {
      "text/plain": [
       "[3, 4, 5, 3, 4, 5, 6]"
      ]
     },
     "execution_count": 14,
     "metadata": {},
     "output_type": "execute_result"
    }
   ],
   "source": [
    "d=[i for i in a if i not in b]\n",
    "d"
   ]
  },
  {
   "cell_type": "code",
   "execution_count": 45,
   "id": "4a490e32",
   "metadata": {},
   "outputs": [
    {
     "name": "stdout",
     "output_type": "stream",
     "text": [
      "[1, 2, 3, 1, 4, 5, 3, 2, 3, 1, 4, 5, 6]\n",
      "[2, 4, 5, 2, 4, 5, 6]\n"
     ]
    },
    {
     "data": {
      "text/plain": [
       "[0, 3]"
      ]
     },
     "execution_count": 45,
     "metadata": {},
     "output_type": "execute_result"
    }
   ],
   "source": [
    "a=[1,2,3,1,4,5,3,2,3,1,4,5,6]\n",
    "print(a)\n",
    "b=[1,3]\n",
    "c=[]\n",
    "d=[i for i in a if i not in b]\n",
    "print(d)\n",
    "j=0\n",
    "for i in d:\n",
    "    if i==2:\n",
    "        c.append(j)\n",
    "    j=j+1\n",
    "c"
   ]
  },
  {
   "cell_type": "code",
   "execution_count": null,
   "id": "3c20f456",
   "metadata": {},
   "outputs": [],
   "source": [
    "#try"
   ]
  },
  {
   "cell_type": "code",
   "execution_count": 60,
   "id": "42c869a6",
   "metadata": {},
   "outputs": [
    {
     "name": "stdout",
     "output_type": "stream",
     "text": [
      "[2, 4, 5, 2, 4, 5, 6]\n"
     ]
    },
    {
     "data": {
      "text/plain": [
       "0"
      ]
     },
     "execution_count": 60,
     "metadata": {},
     "output_type": "execute_result"
    }
   ],
   "source": [
    "z=[2,4,5,2,4,5,6]\n",
    "print(z)\n",
    "for i in z:\n",
    "    if(i==2):\n",
    "        x=z.index(i)\n",
    "        \n",
    "        \n",
    "x"
   ]
  },
  {
   "cell_type": "code",
   "execution_count": null,
   "id": "52ce4399",
   "metadata": {},
   "outputs": [],
   "source": [
    "#try over"
   ]
  },
  {
   "cell_type": "code",
   "execution_count": 63,
   "id": "8b2eb840",
   "metadata": {},
   "outputs": [
    {
     "name": "stdout",
     "output_type": "stream",
     "text": [
      "[2, 2, 3, 5, 6, 1, 4, 3, 1, 2, 7]\n"
     ]
    },
    {
     "data": {
      "text/plain": [
       "[3, 5, 1, 3, 1, 7]"
      ]
     },
     "execution_count": 63,
     "metadata": {},
     "output_type": "execute_result"
    }
   ],
   "source": [
    "a=[2,2,3,5,6,1,4,3,1,2,7]\n",
    "print(a)\n",
    "b=[]\n",
    "for i in a:\n",
    "    if(i%2==1):\n",
    "        b.append(i)\n",
    "b\n",
    "    "
   ]
  },
  {
   "cell_type": "code",
   "execution_count": null,
   "id": "b73eeeb6",
   "metadata": {},
   "outputs": [],
   "source": [
    "#home work"
   ]
  },
  {
   "cell_type": "code",
   "execution_count": 81,
   "id": "9b58dd34",
   "metadata": {},
   "outputs": [
    {
     "data": {
      "text/plain": [
       "[0, 9, 36, 81, 144, 225, 324, 441, 576, 729, 900]"
      ]
     },
     "execution_count": 81,
     "metadata": {},
     "output_type": "execute_result"
    }
   ],
   "source": [
    "a=[]\n",
    "for i in range(1000):\n",
    "    m=i*i\n",
    "    if m%3==0 & m%9==0:\n",
    "        if m<=1000:\n",
    "            a.append(m)\n",
    "a\n",
    "            \n",
    "            \n"
   ]
  },
  {
   "cell_type": "code",
   "execution_count": 95,
   "id": "7d01aabd",
   "metadata": {},
   "outputs": [],
   "source": [
    "alist=[123,['zara','abc',[1,2,3]],'zara','abc',123,'abc',123,['abc',123,'abc']]\n",
    "def len_nested(a):\n",
    "    j=0\n",
    "    for i in a:\n",
    "        if type(i)==list:\n",
    "            j+=len_nested(i)\n",
    "        else:\n",
    "            j=j+1\n",
    "    return j"
   ]
  },
  {
   "cell_type": "code",
   "execution_count": 96,
   "id": "0cdea8ae",
   "metadata": {},
   "outputs": [
    {
     "data": {
      "text/plain": [
       "14"
      ]
     },
     "execution_count": 96,
     "metadata": {},
     "output_type": "execute_result"
    }
   ],
   "source": [
    "len_nested(alist)"
   ]
  },
  {
   "cell_type": "code",
   "execution_count": null,
   "id": "ce72f134",
   "metadata": {},
   "outputs": [],
   "source": [
    "#Using 'for' loop, create a list of square roots which are/ divisible by 3, of first 500 natural numbers."
   ]
  },
  {
   "cell_type": "code",
   "execution_count": 122,
   "id": "f7180f11",
   "metadata": {},
   "outputs": [
    {
     "data": {
      "text/plain": [
       "[0, 3, 6, 9, 12, 15, 18, 21]"
      ]
     },
     "execution_count": 122,
     "metadata": {},
     "output_type": "execute_result"
    }
   ],
   "source": [
    "a=[]\n",
    "for i in range(501):\n",
    "    j=i*i\n",
    "    if j<500:\n",
    "        if i%3==0:\n",
    "            a.append(i)\n",
    "a    "
   ]
  },
  {
   "cell_type": "code",
   "execution_count": 143,
   "id": "45f62525",
   "metadata": {},
   "outputs": [],
   "source": [
    "#work"
   ]
  },
  {
   "cell_type": "code",
   "execution_count": 166,
   "id": "b5d2989e",
   "metadata": {},
   "outputs": [
    {
     "name": "stdout",
     "output_type": "stream",
     "text": [
      "1\n",
      "4\n",
      "7\n"
     ]
    }
   ],
   "source": [
    "dict={'list_1':list(range(0,3)),'list_2':list(range(3,6)),'list_3':list(range(6,9))}\n",
    "dict\n",
    "a=dict.values()\n",
    "for i in a:\n",
    "    print(i[1])"
   ]
  },
  {
   "cell_type": "code",
   "execution_count": 178,
   "id": "63a6d5ff",
   "metadata": {},
   "outputs": [
    {
     "name": "stdout",
     "output_type": "stream",
     "text": [
      "{'list_1': [1, 2, 3, 4, 5], 'list_2': [6, 7, 8, 9, 10], 'list_3': [11, 12, 13, 14, 15], 'list_4': [16, 17, 18, 19, 20], 'list_5': [21, 22, 23, 24, 25]}\n",
      "0\n",
      "1\n",
      "2\n",
      "3\n",
      "4\n",
      "5\n"
     ]
    }
   ],
   "source": [
    "dict1={'list_1':list(range(1,6)),\n",
    "       'list_2':list(range(6,11)),\n",
    "       'list_3':list(range(11,16)),\n",
    "       'list_4':list(range(16,21)),\n",
    "       'list_5':list(range(21,26))}\n",
    "print(dict1)\n",
    "#Call 1,7,13,19,25\n",
    "a=dict.values()\n",
    "\n",
    "for i in range(6):\n",
    "    print(i)"
   ]
  },
  {
   "cell_type": "code",
   "execution_count": 36,
   "id": "3a59f8da",
   "metadata": {},
   "outputs": [
    {
     "name": "stdout",
     "output_type": "stream",
     "text": [
      "sorry\n"
     ]
    }
   ],
   "source": [
    "a=[1,2,3,4,5,6]\n",
    "b=[7]\n",
    "for i in a:\n",
    "    i != b    \n",
    "print(\"sorry\")"
   ]
  },
  {
   "cell_type": "code",
   "execution_count": null,
   "id": "32ef42f5",
   "metadata": {},
   "outputs": [],
   "source": []
  },
  {
   "cell_type": "code",
   "execution_count": null,
   "id": "343d269a",
   "metadata": {},
   "outputs": [],
   "source": []
  },
  {
   "cell_type": "code",
   "execution_count": null,
   "id": "07077353",
   "metadata": {},
   "outputs": [],
   "source": []
  }
 ],
 "metadata": {
  "kernelspec": {
   "display_name": "Python 3 (ipykernel)",
   "language": "python",
   "name": "python3"
  },
  "language_info": {
   "codemirror_mode": {
    "name": "ipython",
    "version": 3
   },
   "file_extension": ".py",
   "mimetype": "text/x-python",
   "name": "python",
   "nbconvert_exporter": "python",
   "pygments_lexer": "ipython3",
   "version": "3.9.13"
  }
 },
 "nbformat": 4,
 "nbformat_minor": 5
}
