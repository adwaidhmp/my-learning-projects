{
 "cells": [
  {
   "cell_type": "markdown",
   "id": "7757206c",
   "metadata": {},
   "source": [
    "# DICTIONARY"
   ]
  },
  {
   "cell_type": "code",
   "execution_count": null,
   "id": "0f1f91f1",
   "metadata": {},
   "outputs": [],
   "source": [
    "a={}\n",
    "for i in range(1,6):\n",
    "    a[i]=i*i\n",
    "print(a)\n",
    "    \n"
   ]
  },
  {
   "cell_type": "code",
   "execution_count": null,
   "id": "e247b69f",
   "metadata": {},
   "outputs": [],
   "source": [
    "a[3]=27\n",
    "print(a)"
   ]
  },
  {
   "cell_type": "code",
   "execution_count": null,
   "id": "4872aaa0",
   "metadata": {},
   "outputs": [],
   "source": [
    "5 in a.keys()\n"
   ]
  },
  {
   "cell_type": "code",
   "execution_count": null,
   "id": "79a18e8e",
   "metadata": {
    "scrolled": true
   },
   "outputs": [],
   "source": [
    "a[6]=36\n",
    "print(a)"
   ]
  },
  {
   "cell_type": "code",
   "execution_count": null,
   "id": "72af1e39",
   "metadata": {},
   "outputs": [],
   "source": [
    "a.pop(4)\n",
    "print(a)"
   ]
  },
  {
   "cell_type": "code",
   "execution_count": null,
   "id": "796d9962",
   "metadata": {},
   "outputs": [],
   "source": [
    "a.items()"
   ]
  },
  {
   "cell_type": "code",
   "execution_count": null,
   "id": "4beead91",
   "metadata": {},
   "outputs": [],
   "source": [
    "a.values()"
   ]
  },
  {
   "cell_type": "code",
   "execution_count": null,
   "id": "4a96d973",
   "metadata": {},
   "outputs": [],
   "source": [
    "a.clear()"
   ]
  },
  {
   "cell_type": "code",
   "execution_count": null,
   "id": "a2c91a39",
   "metadata": {},
   "outputs": [],
   "source": [
    "a"
   ]
  },
  {
   "cell_type": "code",
   "execution_count": null,
   "id": "4ebaac57",
   "metadata": {
    "scrolled": true
   },
   "outputs": [],
   "source": [
    "a.get(3)\n"
   ]
  },
  {
   "cell_type": "code",
   "execution_count": null,
   "id": "b570f73f",
   "metadata": {
    "scrolled": true
   },
   "outputs": [],
   "source": [
    "a"
   ]
  },
  {
   "cell_type": "code",
   "execution_count": null,
   "id": "a2e48b26",
   "metadata": {},
   "outputs": [],
   "source": [
    "a.popitem()"
   ]
  },
  {
   "cell_type": "code",
   "execution_count": null,
   "id": "9b4a6099",
   "metadata": {},
   "outputs": [],
   "source": [
    "a"
   ]
  },
  {
   "cell_type": "code",
   "execution_count": 24,
   "id": "9a21629a",
   "metadata": {},
   "outputs": [
    {
     "name": "stdout",
     "output_type": "stream",
     "text": [
      "[1, 2, 3, 4, 6, 7, 8, 9]\n"
     ]
    }
   ],
   "source": [
    "a=[1,2,3,4]\n",
    "b=[6,7,8,9]\n",
    "a.extend(b)\n",
    "\n",
    "print(a)"
   ]
  },
  {
   "cell_type": "code",
   "execution_count": 33,
   "id": "6a4614c8",
   "metadata": {},
   "outputs": [
    {
     "data": {
      "text/plain": [
       "[1, 2, 3, 4, [6, 7, 8, 9]]"
      ]
     },
     "execution_count": 33,
     "metadata": {},
     "output_type": "execute_result"
    }
   ],
   "source": [
    "a=[1,2,3,4]\n",
    "b=[6,7,8,9]\n",
    "a.append(b)\n",
    "a"
   ]
  },
  {
   "cell_type": "code",
   "execution_count": 34,
   "id": "fc232e96",
   "metadata": {},
   "outputs": [
    {
     "data": {
      "text/plain": [
       "3"
      ]
     },
     "execution_count": 34,
     "metadata": {},
     "output_type": "execute_result"
    }
   ],
   "source": [
    "a[2]"
   ]
  },
  {
   "cell_type": "code",
   "execution_count": 38,
   "id": "5094fbd5",
   "metadata": {},
   "outputs": [
    {
     "data": {
      "text/plain": [
       "6"
      ]
     },
     "execution_count": 38,
     "metadata": {},
     "output_type": "execute_result"
    }
   ],
   "source": [
    "a[4][0]"
   ]
  },
  {
   "cell_type": "code",
   "execution_count": 47,
   "id": "b7631c30",
   "metadata": {},
   "outputs": [
    {
     "data": {
      "text/plain": [
       "[8, 9]"
      ]
     },
     "execution_count": 47,
     "metadata": {},
     "output_type": "execute_result"
    }
   ],
   "source": [
    "a[4][2:4]"
   ]
  },
  {
   "cell_type": "code",
   "execution_count": 46,
   "id": "2b4f10ff",
   "metadata": {},
   "outputs": [
    {
     "data": {
      "text/plain": [
       "[2, 3]"
      ]
     },
     "execution_count": 46,
     "metadata": {},
     "output_type": "execute_result"
    }
   ],
   "source": [
    "a[1:3]"
   ]
  },
  {
   "cell_type": "code",
   "execution_count": 49,
   "id": "9b1579a8",
   "metadata": {},
   "outputs": [],
   "source": [
    "a={1:2,3:5,4:0}\n",
    "b={\"s\":3,\"d\":4,\"f\":5}"
   ]
  },
  {
   "cell_type": "code",
   "execution_count": 51,
   "id": "6dd57bd3",
   "metadata": {},
   "outputs": [
    {
     "name": "stdout",
     "output_type": "stream",
     "text": [
      "{1: 2, 3: 5, 4: 0, 's': 3, 'd': 4, 'f': 5}\n"
     ]
    }
   ],
   "source": [
    "a.update(b)\n",
    "print(a)"
   ]
  },
  {
   "cell_type": "code",
   "execution_count": null,
   "id": "c72c527f",
   "metadata": {},
   "outputs": [],
   "source": []
  },
  {
   "cell_type": "code",
   "execution_count": null,
   "id": "9f6c784f",
   "metadata": {},
   "outputs": [],
   "source": []
  },
  {
   "cell_type": "code",
   "execution_count": null,
   "id": "bcc749a3",
   "metadata": {},
   "outputs": [],
   "source": [
    "for i in a.keys():\n",
    "    print(i)"
   ]
  },
  {
   "cell_type": "code",
   "execution_count": null,
   "id": "220a258c",
   "metadata": {},
   "outputs": [],
   "source": [
    "a=input(\"enter a string\")\n",
    "c={}\n",
    "for i in a:\n",
    "    c[i]= a.count(i)\n",
    "print(c)\n",
    "print(c.items())    "
   ]
  },
  {
   "cell_type": "code",
   "execution_count": null,
   "id": "a26476ac",
   "metadata": {},
   "outputs": [],
   "source": [
    "a={1:\"one\",2:\"two\",3:\"Three\",4:\"four\",5:\"five\",6:\"six\",7:\"seven\",8:\"eight\",9:\"nine\",0:\"zero\"}\n",
    "b=input(\"enter a  number \")\n",
    "for i in b:\n",
    "    print(a[int(i)],end=\" \")"
   ]
  },
  {
   "cell_type": "code",
   "execution_count": null,
   "id": "39b09a82",
   "metadata": {},
   "outputs": [],
   "source": []
  },
  {
   "cell_type": "code",
   "execution_count": null,
   "id": "020b70de",
   "metadata": {},
   "outputs": [],
   "source": [
    "a=(int(input(\"enter range\")))\n",
    "i=1\n",
    "b=0\n",
    "c=1\n",
    "d=0\n",
    "print(b,c,end=\" \")\n",
    "while i<=a-2:\n",
    "    d=b+c\n",
    "    print(d,end=\" \")\n",
    "    b=c\n",
    "    c=d\n",
    "    i=i+1\n",
    "\n",
    "    \n",
    "    "
   ]
  },
  {
   "cell_type": "code",
   "execution_count": null,
   "id": "a620b499",
   "metadata": {},
   "outputs": [],
   "source": [
    "while True:\n",
    "    w,u,d,s,l=0,0,0,0,0\n",
    "    a=input(\"enter a password :\")\n",
    "    if len(a)<8:\n",
    "        print(\"minimum 8 \")\n",
    "    else:\n",
    "        for i in a:\n",
    "            if i.isupper():\n",
    "                u=1\n",
    "            elif i==\" \":\n",
    "                w=1\n",
    "            elif i.islower():\n",
    "                l=1\n",
    "            elif i.isdigit():\n",
    "                d=1\n",
    "            else:\n",
    "                s=1\n",
    "        if u==1 and w==0 and l==1 and d==1 and s==1:\n",
    "            print(\"password is strong\")\n",
    "            break\n",
    "        else:\n",
    "            print(\"enter a strong password\")\n",
    "    "
   ]
  },
  {
   "cell_type": "code",
   "execution_count": null,
   "id": "14b5bab2",
   "metadata": {},
   "outputs": [],
   "source": [
    "l=[\"m\",\"na\",\"i\",\"Ti\"]\n",
    "l2=[\"y\",\"me\",\"s\",\"nu\"]\n",
    "a=[]\n",
    "a.append(l[0]+l2[0])\n",
    "a.append(l[1]+l2[1])\n",
    "a.append(l[2]+l2[2])\n",
    "a.append(l[3]+l2[3])\n",
    "\n",
    "print(a)"
   ]
  },
  {
   "cell_type": "code",
   "execution_count": null,
   "id": "fbdf4a91",
   "metadata": {},
   "outputs": [],
   "source": [
    "a=list(eval(input(\"enter a list\")))\n",
    "b=list(eval(input(\"enter next lsit\")))\n",
    "c=[]\n",
    "if len(a)==len(b):\n",
    "    for i,j in zip(a,b):\n",
    "        c.append(i+j)\n",
    "else:\n",
    "    print(\"enter list with same length\")\n",
    "print(c)"
   ]
  },
  {
   "cell_type": "code",
   "execution_count": null,
   "id": "4774e1c2",
   "metadata": {},
   "outputs": [],
   "source": []
  },
  {
   "cell_type": "markdown",
   "id": "c2dbe5d8",
   "metadata": {},
   "source": [
    "# FUNCTIONS"
   ]
  },
  {
   "cell_type": "code",
   "execution_count": null,
   "id": "45f7d3c6",
   "metadata": {},
   "outputs": [],
   "source": [
    "def greet():\n",
    "    print(\"Hello Good Morning\")\n",
    "\n",
    "greet()\n",
    "greet()\n",
    "greet()"
   ]
  },
  {
   "cell_type": "code",
   "execution_count": null,
   "id": "169f4d49",
   "metadata": {},
   "outputs": [],
   "source": [
    "def greet():\n",
    "    x=input(\"enter your name\")\n",
    "    print(\"hello\",x,\"Good Morning\")\n",
    "\n",
    "greet()\n",
    "    "
   ]
  },
  {
   "cell_type": "code",
   "execution_count": null,
   "id": "f7a0158c",
   "metadata": {},
   "outputs": [],
   "source": [
    "def evenodd(x):\n",
    "    if x==0:\n",
    "        print(\"neither even nor odd\")\n",
    "    elif x%2==0:\n",
    "        print(\"even\")\n",
    "    else:\n",
    "        print(\"odd\")\n",
    "\n",
    "evenodd(0)\n",
    "evenodd(2)\n",
    "evenodd(9)"
   ]
  },
  {
   "cell_type": "code",
   "execution_count": null,
   "id": "feb9dc12",
   "metadata": {},
   "outputs": [],
   "source": [
    "def sum5(x,y=5):\n",
    "    return(x+y)\n",
    "sum5(3)\n",
    "sum5(3,7)\n",
    "sum5(x=2,y=8)\n",
    "sum5(3,y=6)\n",
    "#sum5(3,4,5)"
   ]
  },
  {
   "cell_type": "code",
   "execution_count": null,
   "id": "b5e9597f",
   "metadata": {},
   "outputs": [],
   "source": [
    "def fun1(*x):\n",
    "    for i in x:\n",
    "        print(i)\n",
    "def fun2(**y):\n",
    "    for i,j in y.items():\n",
    "        print(i,j)\n",
    "fun1(\"hello\",\"good morning\")\n",
    "fun2(one=1,two=2,three=3)"
   ]
  },
  {
   "cell_type": "code",
   "execution_count": null,
   "id": "00357373",
   "metadata": {},
   "outputs": [],
   "source": [
    "def sum(*x):\n",
    "    sum=0\n",
    "    for i in x:\n",
    "        sum=sum+i\n",
    "    print(sum)\n",
    "sum(1,2,3,4)"
   ]
  },
  {
   "cell_type": "code",
   "execution_count": null,
   "id": "a99701ef",
   "metadata": {},
   "outputs": [],
   "source": [
    "def avg(*x):\n",
    "    avg=0\n",
    "    for in x:\n",
    "        avg="
   ]
  },
  {
   "cell_type": "code",
   "execution_count": null,
   "id": "776a66ed",
   "metadata": {},
   "outputs": [],
   "source": [
    "def sum3(x,y):\n",
    "    return x+y\n",
    "sum3(2,5)\n",
    "sum3(4,6)\n",
    "x=sum3(2,5)+sum3(4,6)\n",
    "print(x)"
   ]
  },
  {
   "cell_type": "code",
   "execution_count": null,
   "id": "88c184dd",
   "metadata": {},
   "outputs": [],
   "source": [
    "def sum3(x,y):\n",
    "    print(x+y)\n",
    "sum3(2,5)\n",
    "sum3(4,6)\n",
    "x=sum3(2,5)+sum3(4,6)\n",
    "print(x)"
   ]
  },
  {
   "cell_type": "code",
   "execution_count": null,
   "id": "b66de865",
   "metadata": {},
   "outputs": [],
   "source": [
    "def sec(x):\n",
    "    d=[]\n",
    "    for i in range(1,x+1):\n",
    "        d.append(i)\n",
    "    return d\n",
    "sec(5)\n",
    "sec(3)\n",
    "f=sec(3)+sec(5)\n",
    "print(f)"
   ]
  },
  {
   "cell_type": "code",
   "execution_count": null,
   "id": "9e2c9427",
   "metadata": {},
   "outputs": [],
   "source": [
    "def prime(x):\n",
    "    a=0\n",
    "    if x<=1:\n",
    "        print(x,\"it's not a prime number\")\n",
    "    elif x==2:\n",
    "        print(x,\"its a prime number\")\n",
    "    else:\n",
    "        for i in range(2,x):\n",
    "            if x%i==0:\n",
    "                a=1\n",
    "        if a==0:\n",
    "            print(x,\"it is a prime number\")\n",
    "        else:\n",
    "            print(x,\"its not a prime number\")\n",
    "prime(5)\n",
    "        \n",
    "    "
   ]
  },
  {
   "cell_type": "code",
   "execution_count": null,
   "id": "553212f7",
   "metadata": {},
   "outputs": [],
   "source": [
    "def factorial(x):\n",
    "    a=1\n",
    "    for i in range(1,x+1):\n",
    "        a=a*i\n",
    "    print(a)\n",
    "        \n",
    "factorial(5)"
   ]
  },
  {
   "cell_type": "code",
   "execution_count": null,
   "id": "7fff0189",
   "metadata": {},
   "outputs": [],
   "source": [
    "def palindrome(x):\n",
    "    x=str(x)\n",
    "    if x== x[::-1]:\n",
    "        print(\"its a palindrome\")\n",
    "    else:\n",
    "        print(\"its not a palindrome\")\n",
    "palindrome(234)"
   ]
  },
  {
   "cell_type": "code",
   "execution_count": null,
   "id": "2fce0c3a",
   "metadata": {},
   "outputs": [],
   "source": [
    "def leapyear(x):\n",
    "    if x % 100 == 0:\n",
    "        if x % 400 ==0:\n",
    "            print(\"its a leap year\")\n",
    "        else:\n",
    "            print(\"its not a leap year\")\n",
    "    elif x % 4 == 0:\n",
    "        print(\"its a leap year\")\n",
    "    else :\n",
    "        print(\" its not a leap year\")\n",
    "leapyear(1700)"
   ]
  },
  {
   "cell_type": "code",
   "execution_count": null,
   "id": "dbe72d4b",
   "metadata": {},
   "outputs": [],
   "source": [
    "def amstrong(x):\n",
    "    x=str(x)\n",
    "    a=0\n",
    "    c=len(x)\n",
    "    for i in x:\n",
    "        a=a+int(i)**c\n",
    "    if a==int(x):\n",
    "        print(\"its a amstrong number\")\n",
    "    else:\n",
    "        print(\"its not an amstrong numbr\")\n",
    "\n",
    "amstrong(1534)       "
   ]
  },
  {
   "cell_type": "code",
   "execution_count": null,
   "id": "f2ffdff7",
   "metadata": {},
   "outputs": [],
   "source": [
    "def dictionary(x):\n",
    "    a=input(\"enter key\")\n",
    "    b=input(\"enter values\")\n",
    "    x[a]=b\n",
    "    print(x)\n",
    "e={'t':5,'h':7}\n",
    "dictionary(e)"
   ]
  },
  {
   "cell_type": "code",
   "execution_count": null,
   "id": "17138eb8",
   "metadata": {},
   "outputs": [],
   "source": [
    "def dictionary(x):\n",
    "    while True:\n",
    "        a=input(\"enter key\")\n",
    "        if a==\"end\":\n",
    "            break    \n",
    "        b=input(\"enter values\")\n",
    "        x[a]=b\n",
    "    print(x)\n",
    "e={}\n",
    "dictionary(e)\n",
    "        \n",
    "    "
   ]
  },
  {
   "cell_type": "code",
   "execution_count": null,
   "id": "b9418ec2",
   "metadata": {},
   "outputs": [],
   "source": [
    "def even(x):\n",
    "    c=[]\n",
    "    for i in x:\n",
    "        if i % 2 == 0:\n",
    "            c.append(i)\n",
    "    print(c)\n",
    "l=[1,2,3,4,5,7,9,8]\n",
    "even(l)            \n",
    "    "
   ]
  },
  {
   "cell_type": "code",
   "execution_count": null,
   "id": "a7488468",
   "metadata": {},
   "outputs": [],
   "source": [
    "def even(x):\n",
    "    c=[]\n",
    "    for i in x:\n",
    "        if i % 2 == 0:\n",
    "            c.append(i)\n",
    "    print(c)\n"
   ]
  },
  {
   "cell_type": "code",
   "execution_count": null,
   "id": "94f7329f",
   "metadata": {},
   "outputs": [],
   "source": [
    "def odd(x):\n",
    "    c=[]\n",
    "    for i in x:\n",
    "        if i % 2 != 0:\n",
    "            c.append(i)\n",
    "    print(c)\n",
    "l=[1,2,3,4,5,6,7,8,9]\n",
    "odd(l)"
   ]
  },
  {
   "cell_type": "code",
   "execution_count": 17,
   "id": "4c1921e1",
   "metadata": {},
   "outputs": [
    {
     "name": "stdout",
     "output_type": "stream",
     "text": [
      "{'m': 2, 'a': 4, 'l': 2, 'y': 1}\n"
     ]
    }
   ],
   "source": [
    "def fdic(x):\n",
    "    d={}\n",
    "    for i in x:\n",
    "        d[i]=x.count(i)\n",
    "    print(d)\n",
    "fdic(\"malayalam\")"
   ]
  },
  {
   "cell_type": "code",
   "execution_count": 2,
   "id": "a4c181bd",
   "metadata": {
    "scrolled": true
   },
   "outputs": [
    {
     "name": "stdout",
     "output_type": "stream",
     "text": [
      "CALCULATOR\n",
      "1 addition\n",
      "2 substraction\n",
      "3 division\n",
      "4 multiplication\n",
      "5 modulous\n",
      "6 exponential\n",
      "7 end\n",
      "ENTER THE OPERATION YOU WANT\n",
      "select the option1\n",
      "enter number2\n",
      "enter next number3\n",
      "5\n",
      "CALCULATOR\n",
      "1 addition\n",
      "2 substraction\n",
      "3 division\n",
      "4 multiplication\n",
      "5 modulous\n",
      "6 exponential\n",
      "7 end\n",
      "ENTER THE OPERATION YOU WANT\n",
      "select the option7\n",
      "END\n"
     ]
    }
   ],
   "source": [
    "def add(x,y):\n",
    "    print(x+y)\n",
    "def sub(x,y):\n",
    "    print(x-y)\n",
    "def div(x,y):\n",
    "    print(x/y)\n",
    "def mul(x,y):\n",
    "    print(x*y)\n",
    "def mod(x,y):\n",
    "    print(x%y)\n",
    "def exp(x,y):\n",
    "    print(x**y)\n",
    "while True:\n",
    "    print(\"CALCULATOR\")\n",
    "    print(\"1 addition\")\n",
    "    print(\"2 substraction\")\n",
    "    print(\"3 division\")\n",
    "    print(\"4 multiplication\")\n",
    "    print(\"5 modulous\")\n",
    "    print(\"6 exponential\")\n",
    "    print(\"7 end\")\n",
    "    print(\"ENTER THE OPERATION YOU WANT\")\n",
    "    a= int(input(\"select the option\"))\n",
    "    if a==1:\n",
    "        b=int(input(\"enter number\"))\n",
    "        c=int(input(\"enter next number\"))\n",
    "        add(b,c)\n",
    "    elif a==2:\n",
    "        b=int(input(\"enter number\"))\n",
    "        c=int(input(\"enter next number\"))\n",
    "        sub(b,c)\n",
    "    elif a==3:\n",
    "        b=int(input(\"enter number\"))\n",
    "        c=int(input(\"enter next number\"))\n",
    "        div(b,c)\n",
    "    elif a==4:\n",
    "        b=int(input(\"enter number\"))\n",
    "        c=int(input(\"enter next number\"))\n",
    "        mul(b,c)\n",
    "    elif a==5:\n",
    "        b=int(input(\"enter number\"))\n",
    "        c=int(input(\"enter next number\"))\n",
    "        mod(b,c)\n",
    "    elif a==6:\n",
    "        b=int(input(\"enter number\"))\n",
    "        c=int(input(\"enter next number\"))\n",
    "        exp(b,c)\n",
    "    elif a==7:\n",
    "        break\n",
    "else:\n",
    "    print(\"enter a valid key\")\n",
    "print(\"END\")\n",
    "    "
   ]
  },
  {
   "cell_type": "code",
   "execution_count": 13,
   "id": "fa838fd7",
   "metadata": {},
   "outputs": [],
   "source": [
    "contact = {}"
   ]
  },
  {
   "cell_type": "code",
   "execution_count": 16,
   "id": "358251a8",
   "metadata": {},
   "outputs": [
    {
     "name": "stdout",
     "output_type": "stream",
     "text": [
      "CONTACTS\n",
      "1 . veiw all contact\n",
      "2 . add contact\n",
      "3 . delete contact\n",
      "4 . exit\n",
      "enter a option1\n",
      "adw : 1234567\n",
      "wer : 123456\n",
      "zxc : 1234567\n",
      "CONTACTS\n",
      "1 . veiw all contact\n",
      "2 . add contact\n",
      "3 . delete contact\n",
      "4 . exit\n",
      "enter a option3\n",
      "enter the name to deletetinu\n",
      "match not found\n",
      "CONTACTS\n",
      "1 . veiw all contact\n",
      "2 . add contact\n",
      "3 . delete contact\n",
      "4 . exit\n"
     ]
    },
    {
     "ename": "KeyboardInterrupt",
     "evalue": "Interrupted by user",
     "output_type": "error",
     "traceback": [
      "\u001b[1;31m---------------------------------------------------------------------------\u001b[0m",
      "\u001b[1;31mKeyboardInterrupt\u001b[0m                         Traceback (most recent call last)",
      "\u001b[1;32m~\\AppData\\Local\\Temp\\ipykernel_18048\\2584198033.py\u001b[0m in \u001b[0;36m<module>\u001b[1;34m\u001b[0m\n\u001b[0;32m     24\u001b[0m     \u001b[0mprint\u001b[0m\u001b[1;33m(\u001b[0m\u001b[1;34m\"4 . exit\"\u001b[0m\u001b[1;33m)\u001b[0m\u001b[1;33m\u001b[0m\u001b[1;33m\u001b[0m\u001b[0m\n\u001b[0;32m     25\u001b[0m \u001b[1;33m\u001b[0m\u001b[0m\n\u001b[1;32m---> 26\u001b[1;33m     \u001b[0ma\u001b[0m\u001b[1;33m=\u001b[0m\u001b[0mint\u001b[0m\u001b[1;33m(\u001b[0m\u001b[0minput\u001b[0m\u001b[1;33m(\u001b[0m\u001b[1;34m\"enter a option\"\u001b[0m\u001b[1;33m)\u001b[0m\u001b[1;33m)\u001b[0m\u001b[1;33m\u001b[0m\u001b[1;33m\u001b[0m\u001b[0m\n\u001b[0m\u001b[0;32m     27\u001b[0m     \u001b[1;32mif\u001b[0m \u001b[0ma\u001b[0m\u001b[1;33m==\u001b[0m\u001b[1;36m1\u001b[0m\u001b[1;33m:\u001b[0m\u001b[1;33m\u001b[0m\u001b[1;33m\u001b[0m\u001b[0m\n\u001b[0;32m     28\u001b[0m         \u001b[0mview_all_contacts\u001b[0m\u001b[1;33m(\u001b[0m\u001b[0mcontact\u001b[0m\u001b[1;33m)\u001b[0m\u001b[1;33m\u001b[0m\u001b[1;33m\u001b[0m\u001b[0m\n",
      "\u001b[1;32m~\\anaconda3\\lib\\site-packages\\ipykernel\\kernelbase.py\u001b[0m in \u001b[0;36mraw_input\u001b[1;34m(self, prompt)\u001b[0m\n\u001b[0;32m   1175\u001b[0m                 \u001b[1;34m\"raw_input was called, but this frontend does not support input requests.\"\u001b[0m\u001b[1;33m\u001b[0m\u001b[1;33m\u001b[0m\u001b[0m\n\u001b[0;32m   1176\u001b[0m             )\n\u001b[1;32m-> 1177\u001b[1;33m         return self._input_request(\n\u001b[0m\u001b[0;32m   1178\u001b[0m             \u001b[0mstr\u001b[0m\u001b[1;33m(\u001b[0m\u001b[0mprompt\u001b[0m\u001b[1;33m)\u001b[0m\u001b[1;33m,\u001b[0m\u001b[1;33m\u001b[0m\u001b[1;33m\u001b[0m\u001b[0m\n\u001b[0;32m   1179\u001b[0m             \u001b[0mself\u001b[0m\u001b[1;33m.\u001b[0m\u001b[0m_parent_ident\u001b[0m\u001b[1;33m[\u001b[0m\u001b[1;34m\"shell\"\u001b[0m\u001b[1;33m]\u001b[0m\u001b[1;33m,\u001b[0m\u001b[1;33m\u001b[0m\u001b[1;33m\u001b[0m\u001b[0m\n",
      "\u001b[1;32m~\\anaconda3\\lib\\site-packages\\ipykernel\\kernelbase.py\u001b[0m in \u001b[0;36m_input_request\u001b[1;34m(self, prompt, ident, parent, password)\u001b[0m\n\u001b[0;32m   1217\u001b[0m             \u001b[1;32mexcept\u001b[0m \u001b[0mKeyboardInterrupt\u001b[0m\u001b[1;33m:\u001b[0m\u001b[1;33m\u001b[0m\u001b[1;33m\u001b[0m\u001b[0m\n\u001b[0;32m   1218\u001b[0m                 \u001b[1;31m# re-raise KeyboardInterrupt, to truncate traceback\u001b[0m\u001b[1;33m\u001b[0m\u001b[1;33m\u001b[0m\u001b[0m\n\u001b[1;32m-> 1219\u001b[1;33m                 \u001b[1;32mraise\u001b[0m \u001b[0mKeyboardInterrupt\u001b[0m\u001b[1;33m(\u001b[0m\u001b[1;34m\"Interrupted by user\"\u001b[0m\u001b[1;33m)\u001b[0m \u001b[1;32mfrom\u001b[0m \u001b[1;32mNone\u001b[0m\u001b[1;33m\u001b[0m\u001b[1;33m\u001b[0m\u001b[0m\n\u001b[0m\u001b[0;32m   1220\u001b[0m             \u001b[1;32mexcept\u001b[0m \u001b[0mException\u001b[0m\u001b[1;33m:\u001b[0m\u001b[1;33m\u001b[0m\u001b[1;33m\u001b[0m\u001b[0m\n\u001b[0;32m   1221\u001b[0m                 \u001b[0mself\u001b[0m\u001b[1;33m.\u001b[0m\u001b[0mlog\u001b[0m\u001b[1;33m.\u001b[0m\u001b[0mwarning\u001b[0m\u001b[1;33m(\u001b[0m\u001b[1;34m\"Invalid Message:\"\u001b[0m\u001b[1;33m,\u001b[0m \u001b[0mexc_info\u001b[0m\u001b[1;33m=\u001b[0m\u001b[1;32mTrue\u001b[0m\u001b[1;33m)\u001b[0m\u001b[1;33m\u001b[0m\u001b[1;33m\u001b[0m\u001b[0m\n",
      "\u001b[1;31mKeyboardInterrupt\u001b[0m: Interrupted by user"
     ]
    }
   ],
   "source": [
    "def view_all_contacts(x):\n",
    "    if not x:\n",
    "        print(\"empty\")\n",
    "    else:\n",
    "        for i,j in x.items():\n",
    "            print(i,\":\",j)\n",
    "def add_contact(x):\n",
    "    b=input(\"enter name\")   \n",
    "    c=input(\"enter contact number\")\n",
    "    x[b]=c\n",
    "    print(\"added successfully\")\n",
    "def delete_contact(x):\n",
    "    b=input(\"enter the name to delete\")\n",
    "    if b in x:\n",
    "        del x[b]\n",
    "        print(\"contact delted succesfully\")\n",
    "    else:\n",
    "        print(\"match not found\")\n",
    "while True:\n",
    "    print(\"CONTACTS\")\n",
    "    print(\"1 . veiw all contact\")\n",
    "    print(\"2 . add contact\")\n",
    "    print(\"3 . delete contact\")\n",
    "    print(\"4 . exit\")\n",
    "\n",
    "    a=int(input(\"enter a option\"))\n",
    "    if a==1:\n",
    "        view_all_contacts(contact)\n",
    "    elif a==2:\n",
    "        add_contact(contact)\n",
    "    elif a==3:\n",
    "        delete_contact(contact)\n",
    "    elif a==4:\n",
    "        print(\"exit from contact book\")\n",
    "        break\n",
    "    else:\n",
    "        print(\"enter valid operation\")\n",
    "        \n",
    "        \n"
   ]
  },
  {
   "cell_type": "code",
   "execution_count": 20,
   "id": "69b6277d",
   "metadata": {},
   "outputs": [
    {
     "name": "stdout",
     "output_type": "stream",
     "text": [
      "enter number5\n",
      "{1: 1, 2: 4, 3: 9, 4: 16, 5: 25}\n"
     ]
    }
   ],
   "source": [
    "a={}\n",
    "s=int(input(\"enter number\"))\n",
    "for i in range(1,s+1):\n",
    "    a[i]=i*i\n",
    "print(a)"
   ]
  },
  {
   "cell_type": "code",
   "execution_count": 21,
   "id": "c8e64023",
   "metadata": {},
   "outputs": [
    {
     "name": "stdout",
     "output_type": "stream",
     "text": [
      "enter how many keys2\n",
      "enter the keyapple\n",
      "enter the keyorange\n",
      "{'apple': 'elppa', 'orange': 'egnaro'}\n"
     ]
    }
   ],
   "source": [
    "a={}\n",
    "b=int(input(\"enter how many keys\"))\n",
    "for i in range(b):\n",
    "    c=input(\"enter the key\")\n",
    "    a[c]=c[::-1]\n",
    "print(a)"
   ]
  },
  {
   "cell_type": "code",
   "execution_count": null,
   "id": "338e5d59",
   "metadata": {},
   "outputs": [],
   "source": []
  },
  {
   "cell_type": "code",
   "execution_count": null,
   "id": "1df1a1a5",
   "metadata": {},
   "outputs": [],
   "source": []
  },
  {
   "cell_type": "code",
   "execution_count": null,
   "id": "09f3c1b3",
   "metadata": {},
   "outputs": [],
   "source": []
  },
  {
   "cell_type": "code",
   "execution_count": null,
   "id": "c9351fc3",
   "metadata": {},
   "outputs": [],
   "source": []
  },
  {
   "cell_type": "code",
   "execution_count": null,
   "id": "bf5095e0",
   "metadata": {},
   "outputs": [],
   "source": []
  },
  {
   "cell_type": "code",
   "execution_count": null,
   "id": "3115e9fe",
   "metadata": {},
   "outputs": [],
   "source": []
  },
  {
   "cell_type": "code",
   "execution_count": null,
   "id": "a9fab628",
   "metadata": {},
   "outputs": [],
   "source": []
  },
  {
   "cell_type": "code",
   "execution_count": null,
   "id": "fabc2d2e",
   "metadata": {},
   "outputs": [],
   "source": []
  },
  {
   "cell_type": "code",
   "execution_count": null,
   "id": "cd4fd725",
   "metadata": {},
   "outputs": [],
   "source": []
  },
  {
   "cell_type": "code",
   "execution_count": null,
   "id": "fbc9e0fd",
   "metadata": {},
   "outputs": [],
   "source": []
  },
  {
   "cell_type": "code",
   "execution_count": null,
   "id": "68c2457b",
   "metadata": {},
   "outputs": [],
   "source": []
  },
  {
   "cell_type": "code",
   "execution_count": null,
   "id": "ef34d0dd",
   "metadata": {},
   "outputs": [],
   "source": []
  },
  {
   "cell_type": "code",
   "execution_count": null,
   "id": "13195e18",
   "metadata": {},
   "outputs": [],
   "source": []
  },
  {
   "cell_type": "code",
   "execution_count": null,
   "id": "d06e7150",
   "metadata": {},
   "outputs": [],
   "source": []
  },
  {
   "cell_type": "code",
   "execution_count": null,
   "id": "c17fe489",
   "metadata": {},
   "outputs": [],
   "source": []
  },
  {
   "cell_type": "code",
   "execution_count": null,
   "id": "01dea22b",
   "metadata": {},
   "outputs": [],
   "source": []
  },
  {
   "cell_type": "code",
   "execution_count": null,
   "id": "5423fb78",
   "metadata": {},
   "outputs": [],
   "source": []
  },
  {
   "cell_type": "code",
   "execution_count": null,
   "id": "395e832b",
   "metadata": {},
   "outputs": [],
   "source": []
  },
  {
   "cell_type": "code",
   "execution_count": null,
   "id": "5ef6cdd3",
   "metadata": {},
   "outputs": [],
   "source": []
  },
  {
   "cell_type": "code",
   "execution_count": null,
   "id": "0ea041b1",
   "metadata": {},
   "outputs": [],
   "source": []
  },
  {
   "cell_type": "code",
   "execution_count": null,
   "id": "3c0e74f4",
   "metadata": {},
   "outputs": [],
   "source": []
  },
  {
   "cell_type": "code",
   "execution_count": null,
   "id": "bbdeb071",
   "metadata": {},
   "outputs": [],
   "source": []
  },
  {
   "cell_type": "code",
   "execution_count": null,
   "id": "6c39ea3e",
   "metadata": {},
   "outputs": [],
   "source": []
  },
  {
   "cell_type": "code",
   "execution_count": null,
   "id": "aa74f40a",
   "metadata": {},
   "outputs": [],
   "source": []
  },
  {
   "cell_type": "code",
   "execution_count": null,
   "id": "e352200a",
   "metadata": {},
   "outputs": [],
   "source": []
  },
  {
   "cell_type": "code",
   "execution_count": null,
   "id": "3116ae23",
   "metadata": {},
   "outputs": [],
   "source": []
  },
  {
   "cell_type": "code",
   "execution_count": null,
   "id": "cb0fd28a",
   "metadata": {},
   "outputs": [],
   "source": []
  },
  {
   "cell_type": "code",
   "execution_count": null,
   "id": "0eef1a00",
   "metadata": {},
   "outputs": [],
   "source": []
  },
  {
   "cell_type": "code",
   "execution_count": null,
   "id": "006466e5",
   "metadata": {},
   "outputs": [],
   "source": []
  },
  {
   "cell_type": "code",
   "execution_count": null,
   "id": "75be1cad",
   "metadata": {},
   "outputs": [],
   "source": []
  },
  {
   "cell_type": "code",
   "execution_count": null,
   "id": "f6655f5c",
   "metadata": {},
   "outputs": [],
   "source": []
  },
  {
   "cell_type": "code",
   "execution_count": null,
   "id": "99317bb0",
   "metadata": {},
   "outputs": [],
   "source": []
  },
  {
   "cell_type": "code",
   "execution_count": null,
   "id": "8498d40a",
   "metadata": {},
   "outputs": [],
   "source": []
  },
  {
   "cell_type": "code",
   "execution_count": null,
   "id": "31a2f9c0",
   "metadata": {},
   "outputs": [],
   "source": []
  },
  {
   "cell_type": "code",
   "execution_count": null,
   "id": "74fa53d8",
   "metadata": {},
   "outputs": [],
   "source": []
  },
  {
   "cell_type": "code",
   "execution_count": null,
   "id": "e08ea938",
   "metadata": {},
   "outputs": [],
   "source": []
  },
  {
   "cell_type": "code",
   "execution_count": null,
   "id": "3e6c4578",
   "metadata": {},
   "outputs": [],
   "source": []
  },
  {
   "cell_type": "code",
   "execution_count": null,
   "id": "c73eedec",
   "metadata": {},
   "outputs": [],
   "source": []
  },
  {
   "cell_type": "code",
   "execution_count": null,
   "id": "6b851b05",
   "metadata": {},
   "outputs": [],
   "source": []
  },
  {
   "cell_type": "code",
   "execution_count": null,
   "id": "94802284",
   "metadata": {},
   "outputs": [],
   "source": []
  },
  {
   "cell_type": "code",
   "execution_count": null,
   "id": "94fb5605",
   "metadata": {},
   "outputs": [],
   "source": []
  },
  {
   "cell_type": "code",
   "execution_count": null,
   "id": "79eec130",
   "metadata": {},
   "outputs": [],
   "source": []
  },
  {
   "cell_type": "code",
   "execution_count": null,
   "id": "fd14e311",
   "metadata": {},
   "outputs": [],
   "source": []
  },
  {
   "cell_type": "code",
   "execution_count": null,
   "id": "69606eae",
   "metadata": {},
   "outputs": [],
   "source": []
  },
  {
   "cell_type": "code",
   "execution_count": null,
   "id": "78b2e21f",
   "metadata": {},
   "outputs": [],
   "source": []
  },
  {
   "cell_type": "code",
   "execution_count": null,
   "id": "8ec27eb2",
   "metadata": {},
   "outputs": [],
   "source": []
  },
  {
   "cell_type": "code",
   "execution_count": null,
   "id": "b731d05e",
   "metadata": {},
   "outputs": [],
   "source": []
  },
  {
   "cell_type": "code",
   "execution_count": null,
   "id": "dceaae2d",
   "metadata": {},
   "outputs": [],
   "source": []
  },
  {
   "cell_type": "code",
   "execution_count": null,
   "id": "01afba54",
   "metadata": {},
   "outputs": [],
   "source": []
  },
  {
   "cell_type": "code",
   "execution_count": null,
   "id": "946f65e8",
   "metadata": {},
   "outputs": [],
   "source": []
  },
  {
   "cell_type": "code",
   "execution_count": null,
   "id": "f30c5217",
   "metadata": {},
   "outputs": [],
   "source": []
  },
  {
   "cell_type": "code",
   "execution_count": null,
   "id": "9d650733",
   "metadata": {},
   "outputs": [],
   "source": []
  },
  {
   "cell_type": "code",
   "execution_count": null,
   "id": "60ec1c31",
   "metadata": {},
   "outputs": [],
   "source": []
  },
  {
   "cell_type": "code",
   "execution_count": null,
   "id": "0ef0a7ab",
   "metadata": {},
   "outputs": [],
   "source": []
  },
  {
   "cell_type": "code",
   "execution_count": null,
   "id": "33192206",
   "metadata": {},
   "outputs": [],
   "source": []
  },
  {
   "cell_type": "code",
   "execution_count": null,
   "id": "4fbc07c9",
   "metadata": {},
   "outputs": [],
   "source": []
  },
  {
   "cell_type": "code",
   "execution_count": null,
   "id": "cbf58346",
   "metadata": {},
   "outputs": [],
   "source": []
  },
  {
   "cell_type": "code",
   "execution_count": null,
   "id": "53a2b97a",
   "metadata": {},
   "outputs": [],
   "source": []
  },
  {
   "cell_type": "code",
   "execution_count": null,
   "id": "d8bf44c7",
   "metadata": {},
   "outputs": [],
   "source": []
  },
  {
   "cell_type": "code",
   "execution_count": null,
   "id": "1ffe29dd",
   "metadata": {},
   "outputs": [],
   "source": []
  },
  {
   "cell_type": "code",
   "execution_count": null,
   "id": "5a4df2eb",
   "metadata": {},
   "outputs": [],
   "source": []
  },
  {
   "cell_type": "code",
   "execution_count": null,
   "id": "2bf5d361",
   "metadata": {},
   "outputs": [],
   "source": []
  },
  {
   "cell_type": "code",
   "execution_count": null,
   "id": "38549b44",
   "metadata": {},
   "outputs": [],
   "source": []
  },
  {
   "cell_type": "code",
   "execution_count": null,
   "id": "76f7c3d9",
   "metadata": {},
   "outputs": [],
   "source": []
  },
  {
   "cell_type": "code",
   "execution_count": null,
   "id": "da04050a",
   "metadata": {},
   "outputs": [],
   "source": []
  },
  {
   "cell_type": "code",
   "execution_count": null,
   "id": "b9543ff5",
   "metadata": {},
   "outputs": [],
   "source": []
  },
  {
   "cell_type": "code",
   "execution_count": null,
   "id": "302de75c",
   "metadata": {},
   "outputs": [],
   "source": []
  },
  {
   "cell_type": "code",
   "execution_count": null,
   "id": "6e095075",
   "metadata": {},
   "outputs": [],
   "source": []
  },
  {
   "cell_type": "code",
   "execution_count": null,
   "id": "873ed152",
   "metadata": {},
   "outputs": [],
   "source": []
  },
  {
   "cell_type": "code",
   "execution_count": null,
   "id": "b3644bdd",
   "metadata": {},
   "outputs": [],
   "source": []
  },
  {
   "cell_type": "code",
   "execution_count": null,
   "id": "0f530693",
   "metadata": {},
   "outputs": [],
   "source": []
  },
  {
   "cell_type": "code",
   "execution_count": null,
   "id": "c920bcca",
   "metadata": {},
   "outputs": [],
   "source": []
  },
  {
   "cell_type": "code",
   "execution_count": null,
   "id": "88773f66",
   "metadata": {},
   "outputs": [],
   "source": []
  },
  {
   "cell_type": "code",
   "execution_count": null,
   "id": "7d708b04",
   "metadata": {},
   "outputs": [],
   "source": []
  },
  {
   "cell_type": "code",
   "execution_count": null,
   "id": "00c9c322",
   "metadata": {},
   "outputs": [],
   "source": []
  },
  {
   "cell_type": "code",
   "execution_count": null,
   "id": "4801aa26",
   "metadata": {},
   "outputs": [],
   "source": []
  },
  {
   "cell_type": "code",
   "execution_count": null,
   "id": "65a8ea0d",
   "metadata": {},
   "outputs": [],
   "source": []
  },
  {
   "cell_type": "code",
   "execution_count": null,
   "id": "23dd859b",
   "metadata": {},
   "outputs": [],
   "source": []
  },
  {
   "cell_type": "code",
   "execution_count": null,
   "id": "8c641882",
   "metadata": {},
   "outputs": [],
   "source": []
  },
  {
   "cell_type": "code",
   "execution_count": null,
   "id": "7dc3de28",
   "metadata": {},
   "outputs": [],
   "source": []
  },
  {
   "cell_type": "code",
   "execution_count": null,
   "id": "85560eec",
   "metadata": {},
   "outputs": [],
   "source": []
  },
  {
   "cell_type": "code",
   "execution_count": null,
   "id": "9ac1a7f5",
   "metadata": {},
   "outputs": [],
   "source": []
  },
  {
   "cell_type": "code",
   "execution_count": null,
   "id": "84a9f195",
   "metadata": {},
   "outputs": [],
   "source": []
  },
  {
   "cell_type": "code",
   "execution_count": null,
   "id": "23cea185",
   "metadata": {},
   "outputs": [],
   "source": []
  },
  {
   "cell_type": "code",
   "execution_count": null,
   "id": "4540ab8d",
   "metadata": {},
   "outputs": [],
   "source": []
  },
  {
   "cell_type": "code",
   "execution_count": null,
   "id": "647ef8e9",
   "metadata": {},
   "outputs": [],
   "source": []
  },
  {
   "cell_type": "code",
   "execution_count": null,
   "id": "e2bc55a0",
   "metadata": {},
   "outputs": [],
   "source": []
  },
  {
   "cell_type": "code",
   "execution_count": null,
   "id": "a7504455",
   "metadata": {},
   "outputs": [],
   "source": []
  },
  {
   "cell_type": "code",
   "execution_count": null,
   "id": "29009c2a",
   "metadata": {},
   "outputs": [],
   "source": []
  },
  {
   "cell_type": "code",
   "execution_count": null,
   "id": "f2e790d4",
   "metadata": {},
   "outputs": [],
   "source": []
  },
  {
   "cell_type": "code",
   "execution_count": null,
   "id": "a7406e76",
   "metadata": {},
   "outputs": [],
   "source": []
  },
  {
   "cell_type": "code",
   "execution_count": null,
   "id": "01bbccce",
   "metadata": {},
   "outputs": [],
   "source": []
  },
  {
   "cell_type": "code",
   "execution_count": null,
   "id": "aa36ecb0",
   "metadata": {},
   "outputs": [],
   "source": []
  },
  {
   "cell_type": "code",
   "execution_count": null,
   "id": "a2bd44c1",
   "metadata": {},
   "outputs": [],
   "source": []
  },
  {
   "cell_type": "code",
   "execution_count": null,
   "id": "14266ac6",
   "metadata": {},
   "outputs": [],
   "source": []
  },
  {
   "cell_type": "code",
   "execution_count": null,
   "id": "f5c9488e",
   "metadata": {},
   "outputs": [],
   "source": []
  },
  {
   "cell_type": "code",
   "execution_count": null,
   "id": "f42e97b8",
   "metadata": {},
   "outputs": [],
   "source": []
  },
  {
   "cell_type": "code",
   "execution_count": null,
   "id": "f7920036",
   "metadata": {},
   "outputs": [],
   "source": []
  },
  {
   "cell_type": "code",
   "execution_count": null,
   "id": "cb15fb35",
   "metadata": {},
   "outputs": [],
   "source": []
  },
  {
   "cell_type": "code",
   "execution_count": null,
   "id": "c189fd86",
   "metadata": {},
   "outputs": [],
   "source": []
  },
  {
   "cell_type": "code",
   "execution_count": null,
   "id": "46cbe8bd",
   "metadata": {},
   "outputs": [],
   "source": []
  },
  {
   "cell_type": "code",
   "execution_count": null,
   "id": "d975ef61",
   "metadata": {},
   "outputs": [],
   "source": []
  },
  {
   "cell_type": "code",
   "execution_count": null,
   "id": "d4d2663e",
   "metadata": {},
   "outputs": [],
   "source": []
  },
  {
   "cell_type": "code",
   "execution_count": null,
   "id": "2277b7e4",
   "metadata": {},
   "outputs": [],
   "source": []
  },
  {
   "cell_type": "code",
   "execution_count": null,
   "id": "5943f687",
   "metadata": {},
   "outputs": [],
   "source": []
  },
  {
   "cell_type": "code",
   "execution_count": null,
   "id": "250c3c96",
   "metadata": {},
   "outputs": [],
   "source": []
  },
  {
   "cell_type": "code",
   "execution_count": null,
   "id": "9a0059d9",
   "metadata": {},
   "outputs": [],
   "source": []
  },
  {
   "cell_type": "code",
   "execution_count": null,
   "id": "f0b6e1aa",
   "metadata": {},
   "outputs": [],
   "source": []
  },
  {
   "cell_type": "code",
   "execution_count": null,
   "id": "f917430e",
   "metadata": {},
   "outputs": [],
   "source": []
  },
  {
   "cell_type": "code",
   "execution_count": null,
   "id": "feb7c1d4",
   "metadata": {},
   "outputs": [],
   "source": []
  },
  {
   "cell_type": "code",
   "execution_count": null,
   "id": "156a3862",
   "metadata": {},
   "outputs": [],
   "source": []
  },
  {
   "cell_type": "code",
   "execution_count": null,
   "id": "6f179efd",
   "metadata": {},
   "outputs": [],
   "source": []
  },
  {
   "cell_type": "code",
   "execution_count": null,
   "id": "ca1812a0",
   "metadata": {},
   "outputs": [],
   "source": []
  },
  {
   "cell_type": "code",
   "execution_count": null,
   "id": "e29e5598",
   "metadata": {},
   "outputs": [],
   "source": []
  },
  {
   "cell_type": "code",
   "execution_count": null,
   "id": "d666e632",
   "metadata": {},
   "outputs": [],
   "source": []
  },
  {
   "cell_type": "code",
   "execution_count": null,
   "id": "82e4fa22",
   "metadata": {},
   "outputs": [],
   "source": []
  },
  {
   "cell_type": "code",
   "execution_count": null,
   "id": "39bd9889",
   "metadata": {},
   "outputs": [],
   "source": []
  },
  {
   "cell_type": "code",
   "execution_count": null,
   "id": "a225291b",
   "metadata": {},
   "outputs": [],
   "source": []
  },
  {
   "cell_type": "code",
   "execution_count": null,
   "id": "f2359a28",
   "metadata": {},
   "outputs": [],
   "source": []
  },
  {
   "cell_type": "code",
   "execution_count": null,
   "id": "62bed616",
   "metadata": {},
   "outputs": [],
   "source": []
  },
  {
   "cell_type": "code",
   "execution_count": null,
   "id": "5beea048",
   "metadata": {},
   "outputs": [],
   "source": []
  }
 ],
 "metadata": {
  "kernelspec": {
   "display_name": "Python 3 (ipykernel)",
   "language": "python",
   "name": "python3"
  },
  "language_info": {
   "codemirror_mode": {
    "name": "ipython",
    "version": 3
   },
   "file_extension": ".py",
   "mimetype": "text/x-python",
   "name": "python",
   "nbconvert_exporter": "python",
   "pygments_lexer": "ipython3",
   "version": "3.9.13"
  }
 },
 "nbformat": 4,
 "nbformat_minor": 5
}
