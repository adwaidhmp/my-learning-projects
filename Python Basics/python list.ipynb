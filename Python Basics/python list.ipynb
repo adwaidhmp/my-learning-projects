{
 "cells": [
  {
   "cell_type": "markdown",
   "id": "aa8b2d5e",
   "metadata": {},
   "source": [
    "# list"
   ]
  },
  {
   "cell_type": "code",
   "execution_count": 2,
   "id": "79c1169a",
   "metadata": {},
   "outputs": [],
   "source": [
    "list1 = ['python','java',2013,2018,[1,2,3,4],54.3,89.2,8+5j,3+2j,True,False]"
   ]
  },
  {
   "cell_type": "code",
   "execution_count": null,
   "id": "d0c40ae0",
   "metadata": {},
   "outputs": [],
   "source": [
    "[      ]"
   ]
  },
  {
   "cell_type": "code",
   "execution_count": 3,
   "id": "8905279b",
   "metadata": {},
   "outputs": [
    {
     "data": {
      "text/plain": [
       "['python',\n",
       " 'java',\n",
       " 2013,\n",
       " 2018,\n",
       " [1, 2, 3, 4],\n",
       " 54.3,\n",
       " 89.2,\n",
       " (8+5j),\n",
       " (3+2j),\n",
       " True,\n",
       " False]"
      ]
     },
     "execution_count": 3,
     "metadata": {},
     "output_type": "execute_result"
    }
   ],
   "source": [
    "list1\n"
   ]
  },
  {
   "cell_type": "code",
   "execution_count": 4,
   "id": "7e6eb057",
   "metadata": {},
   "outputs": [
    {
     "data": {
      "text/plain": [
       "[1, 2, 3, 4]"
      ]
     },
     "execution_count": 4,
     "metadata": {},
     "output_type": "execute_result"
    }
   ],
   "source": [
    "list1[4]"
   ]
  },
  {
   "cell_type": "code",
   "execution_count": 5,
   "id": "6bf80a91",
   "metadata": {},
   "outputs": [
    {
     "data": {
      "text/plain": [
       "1"
      ]
     },
     "execution_count": 5,
     "metadata": {},
     "output_type": "execute_result"
    }
   ],
   "source": [
    "list1[4][0]"
   ]
  },
  {
   "cell_type": "code",
   "execution_count": 6,
   "id": "545ce38c",
   "metadata": {},
   "outputs": [
    {
     "name": "stdout",
     "output_type": "stream",
     "text": [
      "[1, 2]\n",
      "[3, 4, 5, 6]\n"
     ]
    }
   ],
   "source": [
    "a=[1,2,3,4,5,6]\n",
    "print(a[:2]);print(a[2:])"
   ]
  },
  {
   "cell_type": "code",
   "execution_count": 47,
   "id": "d398abe4",
   "metadata": {},
   "outputs": [
    {
     "name": "stdout",
     "output_type": "stream",
     "text": [
      "[1, 2, 3, 4, 5, 6, 7, 8, 9]\n",
      "[1, 2, 3, 4, 5]\n",
      "[6, 7, 8, 9]\n",
      "[8, 9]\n"
     ]
    }
   ],
   "source": [
    "a=[1,2,3,4,5,6,7,8,9]\n",
    "b=a[:5]\n",
    "c=a[5:]\n",
    "print(a)\n",
    "print(b)\n",
    "print(c)\n",
    "del(a[:7])\n",
    "print(a)"
   ]
  },
  {
   "cell_type": "code",
   "execution_count": 31,
   "id": "dad57324",
   "metadata": {},
   "outputs": [],
   "source": [
    "a = [1,2,3,4,5,6,7,8,9]\n"
   ]
  },
  {
   "cell_type": "code",
   "execution_count": 28,
   "id": "c9b5be38",
   "metadata": {},
   "outputs": [
    {
     "name": "stdout",
     "output_type": "stream",
     "text": [
      "[1]\n",
      "[1, 2, 3, 4, 5, 6, 7, 8]\n"
     ]
    }
   ],
   "source": [
    "print(a[:1]);print(a[:8])"
   ]
  },
  {
   "cell_type": "code",
   "execution_count": 32,
   "id": "84190cce",
   "metadata": {},
   "outputs": [
    {
     "name": "stdout",
     "output_type": "stream",
     "text": [
      "2649612284928\n",
      "[1, 2, 3, 4, 5, 6, 7, 8, 9]\n",
      "[1, 2, 3, 0, 5, 6, 7, 8, 9]\n",
      "2649612284928\n"
     ]
    }
   ],
   "source": [
    "print(id(a))\n",
    "print(a)\n",
    "a[3]=0\n",
    "print(a)\n",
    "print(id(a))"
   ]
  },
  {
   "cell_type": "code",
   "execution_count": 34,
   "id": "f6c57e19",
   "metadata": {},
   "outputs": [
    {
     "name": "stdout",
     "output_type": "stream",
     "text": [
      "2649612284928\n",
      "[1, 2, 3, 0, 5, 6, 7, 8, 9]\n",
      "['abcdefg']\n",
      "2649612857920\n"
     ]
    }
   ],
   "source": [
    "print(id(a))\n",
    "print(a)\n",
    "a=['abcdefg']\n",
    "print(a)\n",
    "print(id(a))"
   ]
  },
  {
   "cell_type": "code",
   "execution_count": 51,
   "id": "064e33a1",
   "metadata": {},
   "outputs": [
    {
     "name": "stdout",
     "output_type": "stream",
     "text": [
      "[1, 2, 3, 4, 5, True, False, (3+6j), 34.5]\n",
      "[1, 2, 3, 4, 5]    [True, False]    [(3+6j), 34.5]\n",
      "[1, 2, 3, 4, 5]\n",
      "[True, False]\n",
      "[(3+6j), 34.5]\n"
     ]
    }
   ],
   "source": [
    "a=[1,2,3,4,5]\n",
    "b=[True,False]\n",
    "c=[3+6j,34.5]\n",
    "print(a+b+c)\n",
    "print(a,'  ',b,'  ',c)\n",
    "print(a);print(b);print(c);"
   ]
  },
  {
   "cell_type": "code",
   "execution_count": 52,
   "id": "dbd91055",
   "metadata": {},
   "outputs": [
    {
     "name": "stdout",
     "output_type": "stream",
     "text": [
      "[1, 2, 3, 4, 5]\n",
      "[1, 2, 4, 5]\n"
     ]
    }
   ],
   "source": [
    "print(a)\n",
    "a.remove(3)\n",
    "print(a)"
   ]
  },
  {
   "cell_type": "code",
   "execution_count": 53,
   "id": "2ad0a036",
   "metadata": {},
   "outputs": [],
   "source": [
    "j=[1,2.3,'dj',3+5j,True]"
   ]
  },
  {
   "cell_type": "code",
   "execution_count": 55,
   "id": "8e260e03",
   "metadata": {},
   "outputs": [
    {
     "name": "stdout",
     "output_type": "stream",
     "text": [
      "[1, 2.3, (3+5j), True]\n"
     ]
    },
    {
     "data": {
      "text/plain": [
       "[1, 2.3, True]"
      ]
     },
     "execution_count": 55,
     "metadata": {},
     "output_type": "execute_result"
    }
   ],
   "source": [
    "print(j)\n",
    "j.remove(j[2])\n",
    "j"
   ]
  },
  {
   "cell_type": "code",
   "execution_count": 63,
   "id": "40313387",
   "metadata": {},
   "outputs": [
    {
     "name": "stdout",
     "output_type": "stream",
     "text": [
      "[1, 3, 4, 3, 5]\n"
     ]
    },
    {
     "data": {
      "text/plain": [
       "[1, 4, 3, 5]"
      ]
     },
     "execution_count": 63,
     "metadata": {},
     "output_type": "execute_result"
    }
   ],
   "source": [
    "d=[1,3,4,3,5]\n",
    "print(d)\n",
    "d.remove(d[3])\n",
    "d"
   ]
  },
  {
   "cell_type": "code",
   "execution_count": 68,
   "id": "7ef27ec5",
   "metadata": {},
   "outputs": [
    {
     "name": "stdout",
     "output_type": "stream",
     "text": [
      "[123, 'abc']\n",
      "[123, 'abc', (3+2j)]\n"
     ]
    },
    {
     "data": {
      "text/plain": [
       "[123, 'abc', (3+2j), True]"
      ]
     },
     "execution_count": 68,
     "metadata": {},
     "output_type": "execute_result"
    }
   ],
   "source": [
    "h=[123,'abc']\n",
    "print(h)\n",
    "h.append(3+2j)\n",
    "print(h)\n",
    "h.append(True)\n",
    "h"
   ]
  },
  {
   "cell_type": "code",
   "execution_count": 71,
   "id": "7da6016d",
   "metadata": {},
   "outputs": [
    {
     "name": "stdout",
     "output_type": "stream",
     "text": [
      "[1, 2, 3, 4, 5]\n",
      "[1, 2, 3, 5]\n"
     ]
    },
    {
     "data": {
      "text/plain": [
       "[1, 2, 3]"
      ]
     },
     "execution_count": 71,
     "metadata": {},
     "output_type": "execute_result"
    }
   ],
   "source": [
    "d=[1,2,3,4,5]\n",
    "print(d)\n",
    "d.pop(3)\n",
    "print(d)\n",
    "d.pop()\n",
    "d"
   ]
  },
  {
   "cell_type": "code",
   "execution_count": 87,
   "id": "acfeeae0",
   "metadata": {},
   "outputs": [
    {
     "name": "stdout",
     "output_type": "stream",
     "text": [
      "[1, 3, 4, 5, 6]\n",
      "[1, 2, 3, 4, 5, 6]\n"
     ]
    }
   ],
   "source": [
    "f=[1,3,4,5,6]\n",
    "print(f)\n",
    "f.insert(1,2)\n",
    "print(f)"
   ]
  },
  {
   "cell_type": "code",
   "execution_count": 88,
   "id": "9773522b",
   "metadata": {},
   "outputs": [
    {
     "name": "stdout",
     "output_type": "stream",
     "text": [
      "[1, 2, 'adhu', 'dj', 3, 4, 5, 6]\n"
     ]
    }
   ],
   "source": [
    "f.insert(2,'adhu')\n",
    "f.insert(3,'dj')\n",
    "print(f)"
   ]
  },
  {
   "cell_type": "code",
   "execution_count": 90,
   "id": "f6cf02a4",
   "metadata": {},
   "outputs": [
    {
     "name": "stdout",
     "output_type": "stream",
     "text": [
      "[1, 2, 3]\n"
     ]
    },
    {
     "data": {
      "text/plain": [
       "[1, 2, 3, 4, 5, 6]"
      ]
     },
     "execution_count": 90,
     "metadata": {},
     "output_type": "execute_result"
    }
   ],
   "source": [
    "x=[1,2,3]\n",
    "print(x)\n",
    "y=[4,5,6]\n",
    "x.extend(y)\n",
    "x"
   ]
  },
  {
   "cell_type": "code",
   "execution_count": 93,
   "id": "dc8f8632",
   "metadata": {},
   "outputs": [
    {
     "name": "stdout",
     "output_type": "stream",
     "text": [
      "[1, 2, 3]\n"
     ]
    },
    {
     "data": {
      "text/plain": [
       "[1, 2, 3, 4, 5, 6]"
      ]
     },
     "execution_count": 93,
     "metadata": {},
     "output_type": "execute_result"
    }
   ],
   "source": [
    "x=[1,2,3]\n",
    "print(x)\n",
    "x.extend([4,5,6])\n",
    "x"
   ]
  },
  {
   "cell_type": "code",
   "execution_count": 94,
   "id": "4d1dd005",
   "metadata": {},
   "outputs": [
    {
     "data": {
      "text/plain": [
       "[1, 2, 3, 4, 5, 6, [7, 8, 9]]"
      ]
     },
     "execution_count": 94,
     "metadata": {},
     "output_type": "execute_result"
    }
   ],
   "source": [
    "z=[7,8,9]\n",
    "x.append(z)\n",
    "x"
   ]
  },
  {
   "cell_type": "code",
   "execution_count": 97,
   "id": "4fc46146",
   "metadata": {},
   "outputs": [
    {
     "data": {
      "text/plain": [
       "[[7, 8, 9], 6, 5, 4, 3, 2, 1]"
      ]
     },
     "execution_count": 97,
     "metadata": {},
     "output_type": "execute_result"
    }
   ],
   "source": [
    "x.reverse()\n",
    "x"
   ]
  },
  {
   "cell_type": "code",
   "execution_count": 100,
   "id": "a8886121",
   "metadata": {},
   "outputs": [
    {
     "name": "stdout",
     "output_type": "stream",
     "text": [
      "[24, 87, 29, 84, 10, 36, 28, 99]\n",
      "[10, 24, 28, 29, 36, 84, 87, 99]\n",
      "[99, 87, 84, 36, 29, 28, 24, 10]\n"
     ]
    },
    {
     "data": {
      "text/plain": [
       "[10, 24, 28, 29, 36, 84, 87, 99]"
      ]
     },
     "execution_count": 100,
     "metadata": {},
     "output_type": "execute_result"
    }
   ],
   "source": [
    "k=[24,87,29,84,10,36,28,99]\n",
    "print(k)\n",
    "k.sort(reverse=False)\n",
    "print(k)\n",
    "k.sort(reverse=True)\n",
    "print(k)\n",
    "#default\n",
    "k.sort()\n",
    "k"
   ]
  },
  {
   "cell_type": "code",
   "execution_count": 101,
   "id": "5af92fd0",
   "metadata": {},
   "outputs": [
    {
     "data": {
      "text/plain": [
       "['Abhijith', 'Adhu', 'Jithi']"
      ]
     },
     "execution_count": 101,
     "metadata": {},
     "output_type": "execute_result"
    }
   ],
   "source": [
    "l=['Adhu','Jithi','Abhijith']\n",
    "l.sort()\n",
    "l"
   ]
  },
  {
   "cell_type": "code",
   "execution_count": null,
   "id": "77320792",
   "metadata": {},
   "outputs": [],
   "source": []
  },
  {
   "cell_type": "code",
   "execution_count": null,
   "id": "45971cd9",
   "metadata": {},
   "outputs": [],
   "source": []
  },
  {
   "cell_type": "code",
   "execution_count": null,
   "id": "a17fddd3",
   "metadata": {},
   "outputs": [],
   "source": []
  },
  {
   "cell_type": "code",
   "execution_count": null,
   "id": "86dce061",
   "metadata": {},
   "outputs": [],
   "source": []
  },
  {
   "cell_type": "code",
   "execution_count": null,
   "id": "3b29150f",
   "metadata": {},
   "outputs": [],
   "source": []
  },
  {
   "cell_type": "code",
   "execution_count": null,
   "id": "e287e8f5",
   "metadata": {},
   "outputs": [],
   "source": []
  },
  {
   "cell_type": "code",
   "execution_count": null,
   "id": "bc6d9490",
   "metadata": {},
   "outputs": [],
   "source": []
  },
  {
   "cell_type": "code",
   "execution_count": null,
   "id": "f7c046c6",
   "metadata": {},
   "outputs": [],
   "source": []
  },
  {
   "cell_type": "code",
   "execution_count": null,
   "id": "382c0079",
   "metadata": {},
   "outputs": [],
   "source": []
  }
 ],
 "metadata": {
  "kernelspec": {
   "display_name": "Python 3 (ipykernel)",
   "language": "python",
   "name": "python3"
  },
  "language_info": {
   "codemirror_mode": {
    "name": "ipython",
    "version": 3
   },
   "file_extension": ".py",
   "mimetype": "text/x-python",
   "name": "python",
   "nbconvert_exporter": "python",
   "pygments_lexer": "ipython3",
   "version": "3.9.12"
  }
 },
 "nbformat": 4,
 "nbformat_minor": 5
}
