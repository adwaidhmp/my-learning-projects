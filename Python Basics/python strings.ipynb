{
 "cells": [
  {
   "cell_type": "code",
   "execution_count": 1,
   "id": "52fdecad",
   "metadata": {},
   "outputs": [
    {
     "name": "stdout",
     "output_type": "stream",
     "text": [
      "python programming\n",
      "PYTHON PROGRAMMING\n",
      "Python programming\n",
      "Python Programming\n",
      "pYTHON pROGRAMMING\n"
     ]
    }
   ],
   "source": [
    "text = \"Python Programming\"\n",
    "\n",
    "# Convert to lowercase\n",
    "print(text.lower())  # Output: 'python programming'\n",
    "\n",
    "# Convert to uppercase\n",
    "print(text.upper())  # Output: 'PYTHON PROGRAMMING'\n",
    "\n",
    "# Capitalize the first letter of the string\n",
    "print(text.capitalize())  # Output: 'Python programming'\n",
    "\n",
    "# Capitalize the first letter of each word\n",
    "print(text.title())  # Output: 'Python Programming'\n",
    "\n",
    "# Swap case (uppercase to lowercase and vice versa)\n",
    "print(text.swapcase())  # Output: 'pYTHON pROGRAMMING'\n"
   ]
  },
  {
   "cell_type": "code",
   "execution_count": 2,
   "id": "bc844596",
   "metadata": {},
   "outputs": [
    {
     "name": "stdout",
     "output_type": "stream",
     "text": [
      "Hello World\n",
      "Hello World  \n",
      "  Hello World\n"
     ]
    }
   ],
   "source": [
    "text = \"  Hello World  \"\n",
    "\n",
    "# Remove whitespace from both ends\n",
    "print(text.strip())  # Output: 'Hello World'\n",
    "\n",
    "# Remove whitespace from the left side\n",
    "print(text.lstrip())  # Output: 'Hello World  '\n",
    "\n",
    "# Remove whitespace from the right side\n",
    "print(text.rstrip())  # Output: '  Hello World'\n"
   ]
  },
  {
   "cell_type": "code",
   "execution_count": 3,
   "id": "7f0985d2",
   "metadata": {},
   "outputs": [
    {
     "name": "stdout",
     "output_type": "stream",
     "text": [
      "7\n",
      "I love Java, Java is awesome\n",
      "2\n"
     ]
    }
   ],
   "source": [
    "text = \"I love Python, Python is awesome\"\n",
    "\n",
    "# Find the index of the first occurrence of 'Python'\n",
    "print(text.find(\"Python\"))  # Output: 7\n",
    "\n",
    "# Replace 'Python' with 'Java'\n",
    "print(text.replace(\"Python\", \"Java\"))  # Output: 'I love Java, Java is awesome'\n",
    "\n",
    "# Count the number of occurrences of 'Python'\n",
    "print(text.count(\"Python\"))  # Output: 2\n"
   ]
  },
  {
   "cell_type": "code",
   "execution_count": 4,
   "id": "4a4b6c5f",
   "metadata": {},
   "outputs": [
    {
     "name": "stdout",
     "output_type": "stream",
     "text": [
      "True\n",
      "True\n"
     ]
    }
   ],
   "source": [
    "text = \"Hello World\"\n",
    "\n",
    "# Check if the string starts with 'Hello'\n",
    "print(text.startswith(\"Hello\"))  # Output: True\n",
    "\n",
    "# Check if the string ends with 'World'\n",
    "print(text.endswith(\"World\"))  # Output: True\n"
   ]
  },
  {
   "cell_type": "code",
   "execution_count": 5,
   "id": "f0ac8edd",
   "metadata": {},
   "outputs": [
    {
     "name": "stdout",
     "output_type": "stream",
     "text": [
      "['Python', 'is', 'great']\n",
      "Python is great\n"
     ]
    }
   ],
   "source": [
    "text = \"Python is great\"\n",
    "\n",
    "# Split the string into words\n",
    "words = text.split()\n",
    "print(words)  # Output: ['Python', 'is', 'great']\n",
    "\n",
    "# Join a list of words into a string\n",
    "words_list = ['Python', 'is', 'great']\n",
    "print(\" \".join(words_list))  # Output: 'Python is great'\n"
   ]
  },
  {
   "cell_type": "code",
   "execution_count": 6,
   "id": "9a1dd6e2",
   "metadata": {},
   "outputs": [
    {
     "name": "stdout",
     "output_type": "stream",
     "text": [
      "True\n",
      "True\n",
      "True\n"
     ]
    }
   ],
   "source": [
    "text_alpha = \"Hello\"\n",
    "text_digit = \"12345\"\n",
    "text_space = \"    \"\n",
    "\n",
    "# Check if the string contains only alphabetic characters\n",
    "print(text_alpha.isalpha())  # Output: True\n",
    "\n",
    "# Check if the string contains only digits\n",
    "print(text_digit.isdigit())  # Output: True\n",
    "\n",
    "# Check if the string contains only whitespace\n",
    "print(text_space.isspace())  # Output: True\n"
   ]
  },
  {
   "cell_type": "code",
   "execution_count": null,
   "id": "48d40e1c",
   "metadata": {},
   "outputs": [],
   "source": []
  }
 ],
 "metadata": {
  "kernelspec": {
   "display_name": "Python 3 (ipykernel)",
   "language": "python",
   "name": "python3"
  },
  "language_info": {
   "codemirror_mode": {
    "name": "ipython",
    "version": 3
   },
   "file_extension": ".py",
   "mimetype": "text/x-python",
   "name": "python",
   "nbconvert_exporter": "python",
   "pygments_lexer": "ipython3",
   "version": "3.9.13"
  }
 },
 "nbformat": 4,
 "nbformat_minor": 5
}
