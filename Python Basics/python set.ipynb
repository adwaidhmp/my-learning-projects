{
 "cells": [
  {
   "cell_type": "markdown",
   "id": "a9e9ebc4",
   "metadata": {},
   "source": [
    "# sets"
   ]
  },
  {
   "cell_type": "code",
   "execution_count": 1,
   "id": "8b40965c",
   "metadata": {},
   "outputs": [
    {
     "name": "stdout",
     "output_type": "stream",
     "text": [
      "animals: {'tiger', 'lion', 'dog', 'hsmsam', 'cat'}\n"
     ]
    },
    {
     "data": {
      "text/plain": [
       "{'cat', 'dog', 'hsmsam', 'lion', 'tiger'}"
      ]
     },
     "execution_count": 1,
     "metadata": {},
     "output_type": "execute_result"
    }
   ],
   "source": [
    "animals={'dog','cat','lion','tiger','hsmsam','dog'}\n",
    "print('animals:',animals)\n",
    "animals"
   ]
  },
  {
   "cell_type": "code",
   "execution_count": 2,
   "id": "7d7d0a06",
   "metadata": {},
   "outputs": [
    {
     "name": "stdout",
     "output_type": "stream",
     "text": [
      "2381824548192\n"
     ]
    },
    {
     "data": {
      "text/plain": [
       "set"
      ]
     },
     "execution_count": 2,
     "metadata": {},
     "output_type": "execute_result"
    }
   ],
   "source": [
    "print(id(animals))\n",
    "type(animals)"
   ]
  },
  {
   "cell_type": "code",
   "execution_count": 3,
   "id": "c56824c4",
   "metadata": {},
   "outputs": [
    {
     "name": "stdout",
     "output_type": "stream",
     "text": [
      "days: ['mon', 'tue', 'wed', 'thu', 'fri', 'sat', 'sun', 'sun', 'sat']\n",
      "days: {'wed', 'mon', 'thu', 'tue', 'sat', 'fri', 'sun'}\n",
      "days: ['wed', 'mon', 'thu', 'tue', 'sat', 'fri', 'sun']\n"
     ]
    }
   ],
   "source": [
    "weeks=['mon','tue','wed','thu','fri','sat','sun','sun','sat']\n",
    "print('days:',weeks)\n",
    "weeks=set(weeks)\n",
    "print('days:',weeks)\n",
    "weeks=list(weeks)\n",
    "print('days:',weeks)"
   ]
  },
  {
   "cell_type": "code",
   "execution_count": 4,
   "id": "6ed70d95",
   "metadata": {},
   "outputs": [
    {
     "name": "stdout",
     "output_type": "stream",
     "text": [
      "weeks {'wed', 'mon', 'thu', 'tue', 'sat', 'fri', 'sun'}\n"
     ]
    }
   ],
   "source": [
    "print('weeks',set(['mon','tue','wed','thu','fri','sat','sun','sun','sat']))\n"
   ]
  },
  {
   "cell_type": "code",
   "execution_count": 5,
   "id": "6b87fc4e",
   "metadata": {},
   "outputs": [
    {
     "name": "stdout",
     "output_type": "stream",
     "text": [
      "{'sat', 'wed', 'thu', 'tue', 'mon', 'fri', 'sun'}\n"
     ]
    }
   ],
   "source": [
    "a={'mon','tue','wed','thu','fri','sat','sun','sun','sat'}\n",
    "print(a)"
   ]
  },
  {
   "cell_type": "code",
   "execution_count": 6,
   "id": "1485f329",
   "metadata": {},
   "outputs": [
    {
     "name": "stdout",
     "output_type": "stream",
     "text": [
      "sat_wed_thu_tue_mon_fri_sun_"
     ]
    }
   ],
   "source": [
    "for i in a:\n",
    "        print(i, end='_')"
   ]
  },
  {
   "cell_type": "code",
   "execution_count": 7,
   "id": "16c4b225",
   "metadata": {},
   "outputs": [
    {
     "data": {
      "text/plain": [
       "{'fri', 'mon', 'sat', 'sun', 'thu', 'tue', 'vava', 'wed'}"
      ]
     },
     "execution_count": 7,
     "metadata": {},
     "output_type": "execute_result"
    }
   ],
   "source": [
    "a.add('vava')\n",
    "a"
   ]
  },
  {
   "cell_type": "code",
   "execution_count": 8,
   "id": "ba64e887",
   "metadata": {},
   "outputs": [
    {
     "data": {
      "text/plain": [
       "{'fri', 'mon', 'sat', 'sun', 'thu', 'tue', 'vava', 'wed'}"
      ]
     },
     "execution_count": 8,
     "metadata": {},
     "output_type": "execute_result"
    }
   ],
   "source": [
    "a.add('mon')\n",
    "a"
   ]
  },
  {
   "cell_type": "code",
   "execution_count": 9,
   "id": "5678ae4c",
   "metadata": {},
   "outputs": [
    {
     "name": "stdout",
     "output_type": "stream",
     "text": [
      "{'wed', 'thu', 'tue', 'sat', 'fri', 'sun', 'vava'}\n",
      "{'wed', 'thu', 'tue', 'sat', 'fri', 'sun'}\n"
     ]
    }
   ],
   "source": [
    "a={'mon','tue','wed','thu','fri','sat','sun','sun','sat','vava'}\n",
    "a.discard('mon')\n",
    "print(a)\n",
    "a.remove('vava')\n",
    "print(a)"
   ]
  },
  {
   "cell_type": "code",
   "execution_count": 10,
   "id": "04463bce",
   "metadata": {},
   "outputs": [],
   "source": [
    "#union"
   ]
  },
  {
   "cell_type": "code",
   "execution_count": 11,
   "id": "613a6283",
   "metadata": {},
   "outputs": [],
   "source": [
    "a={1,2,3,4,5}\n",
    "b={6,7,8,9,10}\n"
   ]
  },
  {
   "cell_type": "code",
   "execution_count": 12,
   "id": "8013580e",
   "metadata": {},
   "outputs": [],
   "source": [
    "d={'a','b','c','d'}\n",
    "e={'e','f','g','h',}\n"
   ]
  },
  {
   "cell_type": "code",
   "execution_count": 13,
   "id": "d458fffe",
   "metadata": {},
   "outputs": [
    {
     "data": {
      "text/plain": [
       "{1, 10, 2, 3, 4, 5, 6, 7, 8, 9, 'a', 'b', 'c', 'd', 'e', 'f', 'g', 'h'}"
      ]
     },
     "execution_count": 13,
     "metadata": {},
     "output_type": "execute_result"
    }
   ],
   "source": [
    "a|b|d|e"
   ]
  },
  {
   "cell_type": "code",
   "execution_count": 14,
   "id": "1bfdbb2c",
   "metadata": {},
   "outputs": [],
   "source": [
    "#intersection"
   ]
  },
  {
   "cell_type": "code",
   "execution_count": 15,
   "id": "59ea2e77",
   "metadata": {},
   "outputs": [
    {
     "data": {
      "text/plain": [
       "{'c'}"
      ]
     },
     "execution_count": 15,
     "metadata": {},
     "output_type": "execute_result"
    }
   ],
   "source": [
    "a={'a','b','c'}\n",
    "b={'d','a','c'}\n",
    "c={'f','c','g'}\n",
    "e=a&b&c\n",
    "e"
   ]
  },
  {
   "cell_type": "code",
   "execution_count": 16,
   "id": "88a2e048",
   "metadata": {},
   "outputs": [],
   "source": [
    "#symmetricx"
   ]
  },
  {
   "cell_type": "code",
   "execution_count": 17,
   "id": "868cceee",
   "metadata": {},
   "outputs": [
    {
     "name": "stdout",
     "output_type": "stream",
     "text": [
      "{1}\n",
      "{3, 4, 5, 6}\n"
     ]
    },
    {
     "data": {
      "text/plain": [
       "{1, 3, 4, 5, 6}"
      ]
     },
     "execution_count": 17,
     "metadata": {},
     "output_type": "execute_result"
    }
   ],
   "source": [
    "a={1,2,3,4,5}\n",
    "b={2,3,4,5}\n",
    "print(a^b)\n",
    "c={3,4,5,6}\n",
    "print (c)\n",
    "a^b^c"
   ]
  },
  {
   "cell_type": "code",
   "execution_count": 18,
   "id": "a45bf41f",
   "metadata": {},
   "outputs": [
    {
     "name": "stdout",
     "output_type": "stream",
     "text": [
      "{2, 3, 4, 9}\n",
      "{1, 3, 4, 7, 8, 9, 10, 15, 18}\n",
      "{1, 5, 6, 7, 9, 10, 15, 18}\n",
      "{3, 7, 10, 15, 18}\n"
     ]
    }
   ],
   "source": [
    "a={1,2,3,4,7,8}\n",
    "b={7,8,9,1}\n",
    "print(a^b)\n",
    "c={7,8,2,10,15,18,1}\n",
    "print(a^b^c)\n",
    "d={5,8,3,6,4}\n",
    "print(a^b^c^d)\n",
    "e={1,5,6,9,3}\n",
    "print(a^b^c^d^e)"
   ]
  },
  {
   "cell_type": "code",
   "execution_count": 19,
   "id": "c6b86cb6",
   "metadata": {},
   "outputs": [
    {
     "name": "stdout",
     "output_type": "stream",
     "text": [
      "{6}\n"
     ]
    }
   ],
   "source": [
    "a={1,2,3,4,5}\n",
    "b={2,3,4,5}\n",
    "c={3,4,5,6}\n",
    "d=a-b\n",
    "f=a-c\n",
    "g=c-b\n",
    "print(g)\n"
   ]
  },
  {
   "cell_type": "code",
   "execution_count": 20,
   "id": "418515ab",
   "metadata": {},
   "outputs": [
    {
     "name": "stdout",
     "output_type": "stream",
     "text": [
      "{1}\n",
      "{1}\n",
      "{2, 3, 4, 5}\n"
     ]
    }
   ],
   "source": [
    "a={1,2,3,4,5}\n",
    "b={2,3,4,5}\n",
    "print(a-b)\n",
    "a.difference_update(b)\n",
    "print(a)\n",
    "print(b)"
   ]
  },
  {
   "cell_type": "code",
   "execution_count": 21,
   "id": "2ccbd3ad",
   "metadata": {},
   "outputs": [
    {
     "name": "stdout",
     "output_type": "stream",
     "text": [
      "{1, 6}\n",
      "{2, 3, 4, 5}\n"
     ]
    },
    {
     "data": {
      "text/plain": [
       "{2, 3, 4, 5}"
      ]
     },
     "execution_count": 21,
     "metadata": {},
     "output_type": "execute_result"
    }
   ],
   "source": [
    "a={1,2,3,4,5}\n",
    "b={2,3,4,5,6}\n",
    "print(a^b)\n",
    "a.intersection_update(b)\n",
    "print(a)\n",
    "b.intersection_update(a)\n",
    "b"
   ]
  },
  {
   "cell_type": "code",
   "execution_count": 22,
   "id": "e60eb594",
   "metadata": {},
   "outputs": [
    {
     "name": "stdout",
     "output_type": "stream",
     "text": [
      "{1, 2, 3, 4, 5, 6}\n"
     ]
    },
    {
     "data": {
      "text/plain": [
       "{1, 2, 3, 4, 5, 6}"
      ]
     },
     "execution_count": 22,
     "metadata": {},
     "output_type": "execute_result"
    }
   ],
   "source": [
    "a={1,2,3,4,5}\n",
    "b={2,3,4,5,6}\n",
    "print(a|b)\n",
    "a.update(b)\n",
    "a"
   ]
  },
  {
   "cell_type": "code",
   "execution_count": 23,
   "id": "65f83da6",
   "metadata": {},
   "outputs": [],
   "source": [
    "#subset and superset"
   ]
  },
  {
   "cell_type": "code",
   "execution_count": 24,
   "id": "912ab627",
   "metadata": {},
   "outputs": [
    {
     "name": "stdout",
     "output_type": "stream",
     "text": [
      "{'mon', 'wed', 'tue'}\n",
      "{'sat', 'wed', 'thu', 'tue', 'mon', 'fri', 'sun'}\n",
      "c is a subset of d True\n",
      "c is a superset of d False\n",
      "d is a superset of c True\n"
     ]
    }
   ],
   "source": [
    "c={'mon','tue','wed'}\n",
    "d={'mon','tue','wed','thu','fri','sat','sun'}\n",
    "print(c)\n",
    "print(d)\n",
    "print('c is a subset of d',c<d)\n",
    "print('c is a superset of d',c>d)\n",
    "print('d is a superset of c',d>c)"
   ]
  },
  {
   "cell_type": "code",
   "execution_count": 25,
   "id": "654d423b",
   "metadata": {},
   "outputs": [
    {
     "name": "stdout",
     "output_type": "stream",
     "text": [
      "{'malayalam'}\n"
     ]
    },
    {
     "data": {
      "text/plain": [
       "{'a', 'l', 'm', 'y'}"
      ]
     },
     "execution_count": 25,
     "metadata": {},
     "output_type": "execute_result"
    }
   ],
   "source": [
    "a={'malayalam'}\n",
    "print(a)\n",
    "b=set('malayalam')\n",
    "b"
   ]
  }
 ],
 "metadata": {
  "kernelspec": {
   "display_name": "Python 3 (ipykernel)",
   "language": "python",
   "name": "python3"
  },
  "language_info": {
   "codemirror_mode": {
    "name": "ipython",
    "version": 3
   },
   "file_extension": ".py",
   "mimetype": "text/x-python",
   "name": "python",
   "nbconvert_exporter": "python",
   "pygments_lexer": "ipython3",
   "version": "3.9.13"
  }
 },
 "nbformat": 4,
 "nbformat_minor": 5
}
